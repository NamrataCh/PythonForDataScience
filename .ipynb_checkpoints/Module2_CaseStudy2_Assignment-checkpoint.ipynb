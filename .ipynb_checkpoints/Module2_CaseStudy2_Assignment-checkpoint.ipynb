{
 "cells": [
  {
   "cell_type": "markdown",
   "id": "945ccacd",
   "metadata": {},
   "source": [
    "### 1.What is the output of the following code?\n",
    "    nums =set([1,1,2,3,3,3,4,4])\n",
    "    print(len(nums))\n",
    "##### Hint:Set consists of aunique element"
   ]
  },
  {
   "cell_type": "markdown",
   "id": "62407b7c",
   "metadata": {},
   "source": [
    " ### Answer\n",
    "    - nums contains: 1,2,3,4\n",
    "    - len(nums) : 4"
   ]
  },
  {
   "cell_type": "markdown",
   "id": "a23dcc7a",
   "metadata": {},
   "source": [
    "### 2.What will be the output?\n",
    "    d ={\"john\":40, \"peter\":45}\n",
    "    print(list(d.keys()))\n",
    "\n",
    "##### Hint:d.keys()isthefunctionthatwillshowkeys"
   ]
  },
  {
   "cell_type": "markdown",
   "id": "42cd9a56",
   "metadata": {},
   "source": [
    "### Answer:\n",
    "    - ['john', 'peter']"
   ]
  },
  {
   "cell_type": "markdown",
   "id": "a729fde9",
   "metadata": {},
   "source": [
    "### 3.A website requires a user to input a username and password to register. Write a program to check the validity of the password given by the user. Following are the criteria for checking password:\n",
    "    1. At least 1 letter between [a-z]\n",
    "    2. At least 1 number between [0-9]\n",
    "    1. At least 1 letter between [A-Z]\n",
    "    3. At least 1 character from [$#@]\n",
    "    4. Minimum length of transaction password: 6\n",
    "    5. Maximum length of transaction password: 12\n",
    "    \n",
    "  #### Hint: In the case of input data being supplied to the question, it should be assumed to be a console input"
   ]
  },
  {
   "cell_type": "code",
   "execution_count": 10,
   "id": "4f4801e3",
   "metadata": {},
   "outputs": [
    {
     "name": "stdout",
     "output_type": "stream",
     "text": [
      "Enter the password: Abcd@123\n",
      "8\n",
      "password match\n"
     ]
    }
   ],
   "source": [
    "import re\n",
    "password=input(\"Enter the password: \")\n",
    "print(len(password))\n",
    "if re.fullmatch(r\"[A-Za-z0-9$#@]{6,12}\", password):\n",
    "    print(\"password match\")\n",
    "else:\n",
    "    print(\"password not match\")\n",
    "    \n",
    "\n"
   ]
  },
  {
   "cell_type": "markdown",
   "id": "6e4f0370",
   "metadata": {},
   "source": [
    "### 4.Write a for loop that prints all elements of a list and their position in the list.\n",
    "    a = [4,7,3,2,5,9] \n",
    " \n",
    "##### Hint: Use Loop to iterate through list elements"
   ]
  },
  {
   "cell_type": "code",
   "execution_count": 12,
   "id": "069ca74b",
   "metadata": {},
   "outputs": [
    {
     "name": "stdout",
     "output_type": "stream",
     "text": [
      "Position: 0, Element: 4\n",
      "Position: 1, Element: 7\n",
      "Position: 2, Element: 3\n",
      "Position: 3, Element: 2\n",
      "Position: 4, Element: 5\n",
      "Position: 5, Element: 9\n"
     ]
    }
   ],
   "source": [
    "a = [4,7,3,2,5,9]\n",
    "for index,elem in enumerate(a):\n",
    "    print(f\"Position: {index}, Element: {elem}\")"
   ]
  },
  {
   "cell_type": "markdown",
   "id": "88654ad4",
   "metadata": {},
   "source": [
    "### 5.Please  write  a  program that accepts  a  string  from the console  and  print  the characters that have even indexes.\n",
    "\n",
    "#### Example: If the following string is given as input to the program:H1e2l3l4o5w6o7r8l9dThen, the output of the program should be:Helloworld"
   ]
  },
  {
   "cell_type": "code",
   "execution_count": 15,
   "id": "d299f7f1",
   "metadata": {},
   "outputs": [
    {
     "name": "stdout",
     "output_type": "stream",
     "text": [
      "Eneter a string: H1e2l3l4o5w6o7r8l9d\n",
      "Helloworld\n"
     ]
    }
   ],
   "source": [
    "input_str=input(\"Eneter a string: \")\n",
    "out_str=\"\"\n",
    "for index, elem in enumerate(input_str):\n",
    "    if index%2==0:\n",
    "        out_str=out_str+elem\n",
    "print(out_str)\n",
    "        \n",
    "    "
   ]
  },
  {
   "cell_type": "markdown",
   "id": "91858153",
   "metadata": {},
   "source": [
    "### 6.Please write a program that accepts a string from the console and print it in reverse order.\n",
    "#### Example: If the following string is given as input to the program: \n",
    "    rise to vote sir \n",
    "#### Then, the output of the program should be:\n",
    "    ris etov ot esir"
   ]
  },
  {
   "cell_type": "code",
   "execution_count": 21,
   "id": "110bc970",
   "metadata": {},
   "outputs": [
    {
     "name": "stdout",
     "output_type": "stream",
     "text": [
      "Enter a string : rise to vote sir\n",
      "ris etov ot esir\n"
     ]
    }
   ],
   "source": [
    "input_str=input(\"Enter a string : \")\n",
    "input_str=input_str[::-1]\n",
    "print(input_str)"
   ]
  },
  {
   "cell_type": "markdown",
   "id": "e9407729",
   "metadata": {},
   "source": [
    "### 7.Please write a program that counts and prints the numbers of each character in a string input by the console. \n",
    "#### Example: If the following string is given as input to the program:\n",
    "    abcdefgabc\n",
    "#### Then, the output of the program should be\n",
    "    a,2\n",
    "    c,2\n",
    "    b,2\n",
    "    e,1\n",
    "    d,1\n",
    "    g,1\n",
    "    f,1\n",
    "    "
   ]
  },
  {
   "cell_type": "code",
   "execution_count": 28,
   "id": "effdae80",
   "metadata": {},
   "outputs": [
    {
     "name": "stdout",
     "output_type": "stream",
     "text": [
      "Enter a string : abcdefgabc\n",
      "a,2\n",
      "b,2\n",
      "c,2\n",
      "d,1\n",
      "e,1\n",
      "f,1\n",
      "g,1\n"
     ]
    }
   ],
   "source": [
    "input_str=input(\"Enter a string : \")\n",
    "dictionary=dict()\n",
    "for i in input_str:\n",
    "    if i in dictionary.keys():\n",
    "        dictionary[i]=dictionary[i]+1\n",
    "    else:\n",
    "        dictionary[i]=1\n",
    "for key in dictionary.keys():\n",
    "    print(f\"{key},{dictionary[key]}\")"
   ]
  },
  {
   "cell_type": "markdown",
   "id": "7ba1e2c1",
   "metadata": {},
   "source": [
    "### 8.With   two   given   lists   [1,3,6,78,35,55]   and   [12,24,35,24,88,120,155],   write   a program to make a list whose elements are intersection of the above given lists."
   ]
  },
  {
   "cell_type": "code",
   "execution_count": 24,
   "id": "38cb9c75",
   "metadata": {},
   "outputs": [
    {
     "name": "stdout",
     "output_type": "stream",
     "text": [
      "[35]\n"
     ]
    }
   ],
   "source": [
    "list1=[1,3,6,78,35,55]\n",
    "list2=[12,24,35,24,88,120,155]\n",
    "\n",
    "intersection=[val for val in list1 if val in list2]\n",
    "print(intersection)"
   ]
  },
  {
   "cell_type": "markdown",
   "id": "8b02bf12",
   "metadata": {},
   "source": [
    "### 9.By using list comprehension, please write a program to print the list after removing the value 24 in [12,24,35,24,88,120,155]."
   ]
  },
  {
   "cell_type": "code",
   "execution_count": 29,
   "id": "b33ea150",
   "metadata": {},
   "outputs": [
    {
     "name": "stdout",
     "output_type": "stream",
     "text": [
      "[12, 35, 88, 120, 155]\n"
     ]
    }
   ],
   "source": [
    "list1=[12,24,35,24,88,120,155]\n",
    "list1=[x for x in list1 if x!=24]\n",
    "print(list1)"
   ]
  },
  {
   "cell_type": "markdown",
   "id": "6d3ccb84",
   "metadata": {},
   "source": [
    "### 10.By using list comprehension, please write a program to print the list after removing the 0th,4th,and 5th numbers in [12,24,35,70,88,120,155]."
   ]
  },
  {
   "cell_type": "code",
   "execution_count": 32,
   "id": "afcf0253",
   "metadata": {},
   "outputs": [
    {
     "name": "stdout",
     "output_type": "stream",
     "text": [
      "[24, 35, 70, 155]\n"
     ]
    }
   ],
   "source": [
    "list1=[12,24,35,70,88,120,155]\n",
    "list1=[x for index, x in enumerate (list1) if index !=0 and index !=4 and index !=5]\n",
    "print(list1)"
   ]
  },
  {
   "cell_type": "markdown",
   "id": "29d492eb",
   "metadata": {},
   "source": [
    "### 11.By using list comprehension, please write a program to print the list after removing deleted numbers that are divisible by 5 and 7 in [12,24,35,70,88,120,155]."
   ]
  },
  {
   "cell_type": "code",
   "execution_count": 34,
   "id": "317e21f8",
   "metadata": {},
   "outputs": [
    {
     "name": "stdout",
     "output_type": "stream",
     "text": [
      "[12, 24, 88, 120, 155]\n"
     ]
    }
   ],
   "source": [
    "list1=[12,24,35,70,88,120,155]\n",
    "list1=[x for x in list1 if x%5!=0 or x%7!=0]\n",
    "print(list1)"
   ]
  },
  {
   "cell_type": "markdown",
   "id": "df2d6be0",
   "metadata": {},
   "source": [
    "### 12.Write  a  program  to  compute  1/2+2/3+3/4+...+n/n+1  with  a  given  n  input  by console (n>0).\n",
    "\n",
    "#### Example:If the following n is given as input to the program:5 Then, the output of the program should be:3.55"
   ]
  },
  {
   "cell_type": "code",
   "execution_count": 38,
   "id": "ac9826e3",
   "metadata": {},
   "outputs": [
    {
     "name": "stdout",
     "output_type": "stream",
     "text": [
      "Enter a number: 5\n",
      "3.5500000000000003\n"
     ]
    }
   ],
   "source": [
    "n=int(input(\"Enter a number: \"))\n",
    "sum=0\n",
    "\n",
    "for i in range(n+1):\n",
    "    temp=i/(i+1)\n",
    "    sum=sum+temp\n",
    "    \n",
    "\n",
    "print(sum)\n",
    "\n"
   ]
  },
  {
   "cell_type": "code",
   "execution_count": null,
   "id": "4c6cb635",
   "metadata": {},
   "outputs": [],
   "source": []
  }
 ],
 "metadata": {
  "kernelspec": {
   "display_name": "Python 3 (ipykernel)",
   "language": "python",
   "name": "python3"
  },
  "language_info": {
   "codemirror_mode": {
    "name": "ipython",
    "version": 3
   },
   "file_extension": ".py",
   "mimetype": "text/x-python",
   "name": "python",
   "nbconvert_exporter": "python",
   "pygments_lexer": "ipython3",
   "version": "3.10.8"
  }
 },
 "nbformat": 4,
 "nbformat_minor": 5
}
