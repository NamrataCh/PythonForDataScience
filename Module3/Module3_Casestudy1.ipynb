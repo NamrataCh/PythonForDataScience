{
 "cells": [
  {
   "cell_type": "markdown",
   "id": "ff6d795e",
   "metadata": {},
   "source": [
    "### Case Study – 1\n",
    "1. A Robot moves in a Plane starting from the origin point (0,0). The robot can move\n",
    "UP, DOWN, LEFT, or RIGHT. The trace of Robot movement is as given following:\n",
    "    - UP 5\n",
    "    - DOWN 3\n",
    "    - LEFT 3\n",
    "    - RIGHT 2\n",
    "    \n",
    "The numbers after directions are steps. Write a program to compute the\n",
    "distance current position after a sequence of movements.\n",
    "\n",
    "Hint: Use the math module."
   ]
  },
  {
   "cell_type": "code",
   "execution_count": 1,
   "id": "1edf5e57",
   "metadata": {},
   "outputs": [],
   "source": [
    "import math\n",
    "X=0\n",
    "Y=0"
   ]
  },
  {
   "cell_type": "code",
   "execution_count": 3,
   "id": "ec57c73f",
   "metadata": {},
   "outputs": [],
   "source": [
    "def get_coord_pos(string):\n",
    "    global X\n",
    "    global Y\n",
    "    if string[0].upper() == \"UP\":\n",
    "        Y += int(string[1])\n",
    "    elif string[0].upper() == \"DOWN\":\n",
    "        Y -= int(string[1])\n",
    "    elif string[0].upper() == \"LEFT\":\n",
    "        X -= int(string[1])\n",
    "    elif string[0].upper() == \"RIGHT\":\n",
    "        X += int(string[1])"
   ]
  },
  {
   "cell_type": "code",
   "execution_count": 7,
   "id": "0972d341",
   "metadata": {},
   "outputs": [
    {
     "name": "stdout",
     "output_type": "stream",
     "text": [
      "Enter ROBOT's movement\n",
      "[Enter q to end]:: UP 5\n",
      "[Enter q to end]:: RIGHT 2\n",
      "[Enter q to end]:: UP 5\n",
      "[Enter q to end]:: LEFT 1\n",
      "[Enter q to end]:: q\n",
      "Distance from Origin : 15.297058540778355\n",
      "Final position : (3, 15)\n"
     ]
    }
   ],
   "source": [
    "robot_moves = []\n",
    "\n",
    "print(\"Enter ROBOT's movement\")\n",
    "while True:\n",
    "    move = input(\"[Enter q to end]:: \")\n",
    "    robot_moves.append(move)\n",
    "\n",
    "    if move == \"q\":\n",
    "        for move in robot_moves:\n",
    "            get_coord_pos(move.split(\" \"))\n",
    "\n",
    "        distance_from_origin = math.sqrt((X**2)+(Y**2))\n",
    "        print(f\"Distance from Origin : {distance_from_origin}\")\n",
    "        print(f\"Final position : ({X}, {Y})\")\n",
    "        break"
   ]
  },
  {
   "cell_type": "markdown",
   "id": "a32862de",
   "metadata": {},
   "source": [
    "#### 2. Data of XYZ company is stored in the sorted list. Write a program for searching specific data from that list.\n",
    "\n",
    "Hint: Use if/elif to deal with conditions"
   ]
  },
  {
   "cell_type": "code",
   "execution_count": 8,
   "id": "559acee4",
   "metadata": {},
   "outputs": [
    {
     "name": "stdout",
     "output_type": "stream",
     "text": [
      "Enter list of items (comma seperated):: Hello,user,how,are,you\n",
      "Enter the elements which needs to find :: how\n",
      "how is present in given list at position 3\n"
     ]
    }
   ],
   "source": [
    "input_str = input(\"Enter list of items (comma seperated):: \")\n",
    "search_item = input(\"Enter the elements which needs to find :: \")\n",
    "\n",
    "input_list = str(input_str).split(\",\")\n",
    "\n",
    "if search_item in input_list:\n",
    "    print(f\"{search_item} is present in given list at position {input_list.index(search_item)+1}\")\n",
    "else:\n",
    "    print(f\"{search_item} is not present in given list\")"
   ]
  },
  {
   "cell_type": "markdown",
   "id": "791d0abc",
   "metadata": {},
   "source": [
    "#### 3. Weather forecasting organization wants to show whether is it day or night. So,write a program for such an organization to find whether is it dark outside or not.\n",
    "\n",
    "\n",
    "Hint: Use the time module."
   ]
  },
  {
   "cell_type": "code",
   "execution_count": 10,
   "id": "f951b146",
   "metadata": {},
   "outputs": [
    {
     "name": "stdout",
     "output_type": "stream",
     "text": [
      "Its light  outside.\n"
     ]
    }
   ],
   "source": [
    "from datetime import datetime\n",
    "\n",
    "\n",
    "def check_dark_or_not(hour):\n",
    "    if hour<=18 or hour >=5:\n",
    "        return \"light\"\n",
    "    else:\n",
    "        return \"dark\"\n",
    "\n",
    "\n",
    "hour_of_d_day = datetime.now().hour\n",
    "\n",
    "print(f\"Its {check_dark_or_not(hour_of_d_day)}  outside.\")"
   ]
  },
  {
   "cell_type": "markdown",
   "id": "45009e8d",
   "metadata": {},
   "source": [
    "#### 4. Write a program to find the distance between two locations when their latitude and longitudes are given.\n",
    "\n",
    " Hint: Use the math module."
   ]
  },
  {
   "cell_type": "code",
   "execution_count": 11,
   "id": "1dfd5f85",
   "metadata": {},
   "outputs": [
    {
     "name": "stdout",
     "output_type": "stream",
     "text": [
      "Enter 1st Latitude and longitude\n",
      ":: 18.520430,73.856743\n",
      "Enter 2nd Latitude and longitude\n",
      ":: 19.075983,72.877655\n",
      "Distance between (18.52043, 73.856743) and (18.52043, 72.877655) is 74.65885213830921\n"
     ]
    }
   ],
   "source": [
    "def distance(lat1, lon1, lat2, lon2):\n",
    "    radlat1 = math.pi*lat1/180\n",
    "    radlon1 = math.pi*lon1/180\n",
    "    radlat2 = math.pi*lat2/180\n",
    "    radlon2 = math.pi*lon2/180\n",
    "\n",
    "    theta = lon1-lon2\n",
    "    radtheta = math.pi*theta/180\n",
    "\n",
    "    dist = math.sin(radlat1) * math.sin(radlat2) + \\\n",
    "        math.cos(radlat1)*math.cos(radlat2)*math.cos(radtheta)\n",
    "    dist = math.acos(dist)\n",
    "    dist = dist * 180/math.pi\n",
    "    dist = dist*60*1.1515\n",
    "\n",
    "    return dist\n",
    "\n",
    "\n",
    "print(\"Enter 1st Latitude and longitude\")\n",
    "latlong1 = input(\":: \").split(\",\")\n",
    "\n",
    "print(\"Enter 2nd Latitude and longitude\")\n",
    "latlong2 = input(\":: \").split(\",\")\n",
    "\n",
    "lat1 = float(latlong1[0].strip())\n",
    "lon1 = float(latlong1[1].strip())\n",
    "\n",
    "lat2 = float(latlong2[0].strip())\n",
    "lon2 = float(latlong2[1].strip())\n",
    "\n",
    "dist = distance(lat1, lon1, lat2, lon2)\n",
    "\n",
    "print(f\"Distance between ({lat1}, {lon1}) and ({lat1}, {lon2}) is {dist}\")"
   ]
  },
  {
   "cell_type": "markdown",
   "id": "743c72ca",
   "metadata": {},
   "source": [
    "#### 5. Design software for bank systems. There should be options like cash withdrawal,cash credit, and a change password. According to user input, the software should provide the required output.\n",
    "\n",
    "Hint: Use if else statements and functions"
   ]
  },
  {
   "cell_type": "code",
   "execution_count": 32,
   "id": "f9cc280b",
   "metadata": {},
   "outputs": [
    {
     "name": "stdout",
     "output_type": "stream",
     "text": [
      "********** Welcome To ABC BANK ATM **********\n",
      "Enter your 4-digit pin number.\n",
      ":: 1234\n",
      "\n",
      "\n",
      "Please select your option from below\n",
      "1. Check your balance\n",
      "2. Withdraw cash\n",
      "3. Pin Change\n",
      "4. Mini Statement\n",
      "5. Exit\n",
      "\n",
      "\n",
      ":: 1\n",
      "****** Cash Balance ******\n",
      "Your latest balance is : 10000\n",
      "\n",
      "\n",
      "Please select your option from below\n",
      "1. Check your balance\n",
      "2. Withdraw cash\n",
      "3. Pin Change\n",
      "4. Mini Statement\n",
      "5. Exit\n",
      "\n",
      "\n",
      ":: 2\n",
      "****** Withdraw Cash ******\n",
      "Enter amount\n",
      ":: 2000\n",
      "****** Please collect cash ******\n",
      "2000\n",
      "Available cash balance : 8000\n",
      "\n",
      "\n",
      "Please select your option from below\n",
      "1. Check your balance\n",
      "2. Withdraw cash\n",
      "3. Pin Change\n",
      "4. Mini Statement\n",
      "5. Exit\n",
      "\n",
      "\n",
      ":: 4\n",
      "****** Mini Statement ******\n",
      "10000 Debited on 2023-04-02 20:43:20.491291\n",
      "2000 Debited on 2023-04-02 20:43:29.863766\n",
      "Clear Cash Balance now : 8000\n",
      "\n",
      "\n",
      "Please select your option from below\n",
      "1. Check your balance\n",
      "2. Withdraw cash\n",
      "3. Pin Change\n",
      "4. Mini Statement\n",
      "5. Exit\n",
      "\n",
      "\n",
      ":: 5\n",
      "\n",
      "\n",
      "Thanks for Choosing HDFC Bank.\n",
      "Visit Again.\n"
     ]
    }
   ],
   "source": [
    "# defaults\n",
    "DEF_PIN_NUMBER = \"1234\"\n",
    "DEF_CASH_BALANCE = 10000\n",
    "\n",
    "print(\"********** Welcome To ABC BANK ATM **********\")\n",
    "\n",
    "print(\"Enter your 4-digit pin number.\")\n",
    "pin_number = input(\":: \").strip(\"\")\n",
    "msg_list = [\"10000 Debited on \" + str(datetime.now())]\n",
    "\n",
    "\n",
    "while True:\n",
    "    if DEF_PIN_NUMBER != pin_number:\n",
    "        print(\"Wrong pin number. Please re enter.\")\n",
    "        pin_number = input(\":: \").strip(\"\")\n",
    "        continue\n",
    "    print(\"\\n\")\n",
    "    print(\"Please select your option from below\")\n",
    "    print(\"1. Check your balance\")\n",
    "    print(\"2. Withdraw cash\")\n",
    "    print(\"3. Pin Change\")\n",
    "    print(\"4. Mini Statement\")\n",
    "    print(\"5. Exit\")\n",
    "    print(\"\\n\")\n",
    "    user_option = input(\":: \")\n",
    "\n",
    "    if user_option == \"1\":\n",
    "        print(\"****** Cash Balance ******\")\n",
    "        print(\"Your latest balance is : \" + str(DEF_CASH_BALANCE))\n",
    "    elif user_option == \"2\":\n",
    "        print(\"****** Withdraw Cash ******\")\n",
    "        print(\"Enter amount\")\n",
    "        withdraw_amount = int(input(\":: \"))\n",
    "        if withdraw_amount > DEF_CASH_BALANCE:\n",
    "            print(\"No sufficient balance, Please select less amount than your available balance.\")\n",
    "            continue\n",
    "        else:\n",
    "            print(\"****** Please collect cash ******\")\n",
    "            print(str(withdraw_amount))\n",
    "            DEF_CASH_BALANCE -= withdraw_amount\n",
    "            print(\"Available cash balance : \" +\n",
    "                  str(DEF_CASH_BALANCE))\n",
    "            msg_list.append(str(withdraw_amount) + \" Debited on \" +\n",
    "                        str(datetime.now()))\n",
    "            continue\n",
    "    elif user_option == \"3\":\n",
    "        print(\"****** Pin Change ******\")\n",
    "        print(\"Please enter your old pin\")\n",
    "        pin_number = input(\":: \")\n",
    "        print(\"Please enter new pin number\")\n",
    "        new_pin = input(\":: \")\n",
    "        print(\"Please re enter new pin number\")\n",
    "        re_new_pin = input(\":: \")\n",
    "\n",
    "        if pin_number == DEF_PIN_NUMBER and new_pin == re_new_pin:\n",
    "            DEF_PIN_NUMBER = pin_number\n",
    "            print(\"Your pin is successfully changed.\")\n",
    "        else:\n",
    "            print(\"Either old pin is wrong or new pin is not correct\")\n",
    "            print(\"Please re try again\")\n",
    "\n",
    "        continue\n",
    "    elif user_option == \"4\":\n",
    "        print(\"****** Mini Statement ******\")\n",
    "        for item in msg_list:\n",
    "            print(item)\n",
    "        print(\"Clear Cash Balance now : \" + str(DEF_CASH_BALANCE))\n",
    "    elif user_option == \"5\":\n",
    "        print(\"\\n\\nThanks for Choosing HDFC Bank.\\nVisit Again.\")\n",
    "        break\n",
    "    else:\n",
    "        print(\"OOpsss! Seems wrong option. Please reselect option or exit by pressing 5\")"
   ]
  },
  {
   "cell_type": "markdown",
   "id": "2e0476ad",
   "metadata": {},
   "source": [
    "#### 6. Write a program that will find all such numbers which are divisible by 7 but are not a multiple of 5, between 2000 and 3200 (both included). The numbers obtained should be printed in a comma-separated sequence on a single line.\n"
   ]
  },
  {
   "cell_type": "code",
   "execution_count": 15,
   "id": "3fbb58a0",
   "metadata": {},
   "outputs": [
    {
     "name": "stdout",
     "output_type": "stream",
     "text": [
      "2002,2009,2016,2023,2037,2044,2051,2058,2072,2079,2086,2093,2107,2114,2121,2128,2142,2149,2156,2163,2177,2184,2191,2198,2212,2219,2226,2233,2247,2254,2261,2268,2282,2289,2296,2303,2317,2324,2331,2338,2352,2359,2366,2373,2387,2394,2401,2408,2422,2429,2436,2443,2457,2464,2471,2478,2492,2499,2506,2513,2527,2534,2541,2548,2562,2569,2576,2583,2597,2604,2611,2618,2632,2639,2646,2653,2667,2674,2681,2688,2702,2709,2716,2723,2737,2744,2751,2758,2772,2779,2786,2793,2807,2814,2821,2828,2842,2849,2856,2863,2877,2884,2891,2898,2912,2919,2926,2933,2947,2954,2961,2968,2982,2989,2996,3003,3017,3024,3031,3038,3052,3059,3066,3073,3087,3094,3101,3108,3122,3129,3136,3143,3157,3164,3171,3178,3192,3199\n"
     ]
    }
   ],
   "source": [
    "output_list = []\n",
    "\n",
    "for elem in range(2000, 3201):\n",
    "    if elem%7==0 and not elem%5==0:\n",
    "        output_list.append(str(elem))\n",
    "        \n",
    "# [str(number) for number in range(\n",
    "#     2000, 3201) if (not number % 7) and number % 5]\n",
    "\n",
    "print(\",\".join(output_list))"
   ]
  },
  {
   "cell_type": "markdown",
   "id": "a243bae4",
   "metadata": {},
   "source": [
    "#### 7. Write a program that can compute the factorial of a given numb. Use recursion to find it.\n",
    "\n",
    "Hint: Suppose the following input is supplied to the program: 8\n",
    "Then, the output should be:\n",
    "40320\n"
   ]
  },
  {
   "cell_type": "code",
   "execution_count": 16,
   "id": "efd97a0d",
   "metadata": {},
   "outputs": [
    {
     "name": "stdout",
     "output_type": "stream",
     "text": [
      "Please enter a number\n",
      ":: 8\n",
      "Factorial of given number is 40320\n"
     ]
    }
   ],
   "source": [
    "def get_factorial(number):\n",
    "    if number == 0:\n",
    "        return 1\n",
    "    else:\n",
    "        return number*get_factorial(number-1)\n",
    "\n",
    "\n",
    "print(\"Please enter a number\")\n",
    "number = int(input(\":: \"))\n",
    "\n",
    "print(f\"Factorial of given number is {get_factorial(number)}\")"
   ]
  },
  {
   "cell_type": "markdown",
   "id": "98f5dd49",
   "metadata": {},
   "source": [
    "#### 8. Write a program that calculates and prints the value according to the given formula:\n",
    "Q = Square root of [(2 * C * D)/H]\n",
    "\n",
    "Following are the fixed values of C and H: C is 50. H is 30.\n",
    "\n",
    "D is the variable whose values should be input to your program in a commaseparated sequence.\n",
    "\n",
    "Example:\n",
    "Let us assume the following comma-separated input sequence is given to the program:\n",
    "\n",
    "100,150,180\n",
    "\n",
    "The output of the program should be:\n",
    "\n",
    "18,22,24"
   ]
  },
  {
   "cell_type": "code",
   "execution_count": 18,
   "id": "dfc4dd8e",
   "metadata": {},
   "outputs": [
    {
     "name": "stdout",
     "output_type": "stream",
     "text": [
      "Enter numbers:: 100,150,180\n",
      "18\n",
      "22\n",
      "24\n"
     ]
    }
   ],
   "source": [
    "def get_value_acco_farmula(D):\n",
    "    C = 50\n",
    "    H = 30\n",
    "    return int(math.sqrt(((2*C*D)/H)))\n",
    "\n",
    "\n",
    "\n",
    "numbers = input(\"Enter numbers:: \")\n",
    "\n",
    "numbers_list = [int(number) for number in numbers.split(\",\")]\n",
    "\n",
    "for number in numbers_list:\n",
    "    print(get_value_acco_farmula(number))"
   ]
  },
  {
   "cell_type": "markdown",
   "id": "8371db48",
   "metadata": {},
   "source": [
    "9. Write a program that takes 2 digits, X, Y as input and generates a 2-dimensional array. The element value in the i-th row and j-th column of the array should be i*j.\n",
    "\n",
    "Note: i=0,1.., X-1; j=0,1,¡-Y-1.\n",
    "\n",
    "Example:\n",
    "Suppose the following inputs are given to the program:\n",
    "\n",
    "3,5\n",
    "\n",
    "Then, the output of the program should be:\n",
    "\n",
    "[[0, 0, 0, 0, 0], [0, 1, 2, 3, 4], [0, 2, 4, 6, 8]] "
   ]
  },
  {
   "cell_type": "code",
   "execution_count": 19,
   "id": "081ff940",
   "metadata": {},
   "outputs": [
    {
     "name": "stdout",
     "output_type": "stream",
     "text": [
      "Enter the X,Y\n",
      ":: 3,5\n",
      "[[0, 0, 0, 0, 0], [0, 1, 2, 3, 4], [0, 2, 4, 6, 8]]\n"
     ]
    }
   ],
   "source": [
    "print(\"Enter the X,Y\")\n",
    "input_str = input(\":: \").split(\",\")\n",
    "\n",
    "list_array = []\n",
    "\n",
    "X = int(input_str[0].strip())\n",
    "Y = int(input_str[1].strip())\n",
    "\n",
    "for x in range(X):\n",
    "    list_temp = []\n",
    "    for y in range(Y):\n",
    "        list_temp.append(y*x)\n",
    "    list_array.append(list_temp)\n",
    "\n",
    "print(list_array)"
   ]
  },
  {
   "cell_type": "markdown",
   "id": "19a0e659",
   "metadata": {},
   "source": [
    "#### 10.Write a program that accepts a comma-separated sequence of words as input and prints the words in a comma-separated sequence after sorting them alphabetically. Suppose the following input is supplied to the program:\n",
    "\n",
    " without,hello,bag,world\n",
    " \n",
    " Then, the output should be:\n",
    " \n",
    " bag,hello,without,world"
   ]
  },
  {
   "cell_type": "code",
   "execution_count": 21,
   "id": "b1920fe5",
   "metadata": {},
   "outputs": [
    {
     "name": "stdout",
     "output_type": "stream",
     "text": [
      "\n",
      "Enter input strings:: without,hello,bag,world\n",
      "bag,hello,without,world\n"
     ]
    }
   ],
   "source": [
    "print(\"\")\n",
    "input_str = input(\"Enter input strings:: \")\n",
    "\n",
    "input_list = input_str.split(\",\")\n",
    "input_list.sort()\n",
    "print(\",\".join(input_list))"
   ]
  },
  {
   "cell_type": "markdown",
   "id": "af725dbc",
   "metadata": {},
   "source": [
    "#### 11.Write a program that accepts sequence of lines as input and prints the lines after making all characters in the sentence capitalized. Suppose the following input is supplied to the program:\n",
    "\n",
    " Hello world\n",
    " \n",
    " Practice makes perfect\n",
    "\n",
    "Then, the output should be:\n",
    "\n",
    "HELLO WORLD\n",
    " PRACTICE MAKES PERFECT"
   ]
  },
  {
   "cell_type": "code",
   "execution_count": 23,
   "id": "2371cfee",
   "metadata": {},
   "outputs": [
    {
     "name": "stdout",
     "output_type": "stream",
     "text": [
      "Enter input strings\n",
      "[Enter q to break] Hello world\n",
      "[Enter q to break] Practice makes perfect\n",
      "[Enter q to break] q\n",
      "HELLO WORLD\n",
      "PRACTICE MAKES PERFECT\n"
     ]
    }
   ],
   "source": [
    "print(\"Enter input strings\")\n",
    "\n",
    "input_list=[]\n",
    "while True:\n",
    "    input_str = input(\"[Enter q to break] \")    \n",
    "    \n",
    "    if input_str == \"q\":\n",
    "        break\n",
    "    else:\n",
    "        input_list.append(input_str)\n",
    "        \n",
    "for input_str in input_list:\n",
    "    print(input_str.upper())"
   ]
  },
  {
   "cell_type": "markdown",
   "id": "c501207f",
   "metadata": {},
   "source": [
    "#### 12.Write a program that accepts a sequence of whitespace-separated words as input and prints the words after removing all duplicate words and sorting them alphanumerically. Suppose the following input is supplied to the program:\n",
    "\n",
    " hello world and practice makes perfect and hello world again\n",
    " \n",
    " Then, the output should be:\n",
    " \n",
    " again and hello makes perfect practice world"
   ]
  },
  {
   "cell_type": "code",
   "execution_count": 2,
   "id": "e13b16fa",
   "metadata": {},
   "outputs": [
    {
     "name": "stdout",
     "output_type": "stream",
     "text": [
      "Enter input string:: hello world and practice makes perfect and hello world again\n",
      "again and hello makes perfect practice world\n"
     ]
    }
   ],
   "source": [
    "input_str = input(\"Enter input string:: \")\n",
    "\n",
    "input_list = input_str.split(\" \")\n",
    "input_set=set(input_list)\n",
    "\n",
    "unique_words_list = list(input_set)\n",
    "unique_words_list.sort()\n",
    "\n",
    "print(\" \".join(unique_words_list))"
   ]
  },
  {
   "cell_type": "markdown",
   "id": "53489ff4",
   "metadata": {},
   "source": [
    "#### 13.Write a program that accepts a sequence of comma separated 4 digit binary numbers as its input and then check whether they are divisible by 5 or not. The numbers that are divisible by 5 are to be printed in a comma-separated sequence.\n",
    "\n",
    "Example:\n",
    "\n",
    "0100,0011,1010,1001\n",
    "\n",
    "Then the output should be:\n",
    "\n",
    "1010"
   ]
  },
  {
   "cell_type": "code",
   "execution_count": 3,
   "id": "f4caf4f0",
   "metadata": {},
   "outputs": [
    {
     "name": "stdout",
     "output_type": "stream",
     "text": [
      "Enter comma seperated Binary numbers:: 0100,0011,1010,1001\n",
      "1010\n"
     ]
    }
   ],
   "source": [
    "\n",
    "input_str = input(\"Enter comma seperated Binary numbers:: \")\n",
    "\n",
    "input_list = input_str.split(\",\")\n",
    "result_list = [number for number in input_list if int(\n",
    "    number, 2) % 5 == 0]\n",
    "\n",
    "result = \",\".join(result_list)\n",
    "\n",
    "print(result)"
   ]
  },
  {
   "cell_type": "markdown",
   "id": "3d2d311a",
   "metadata": {},
   "source": [
    "#### 14.Write a program that accepts a sentence and calculates the number of upper case letters and lower case letters. Suppose the following input is supplied to the program:\n",
    "\n",
    " Hello world!\n",
    "\n",
    "Then, the output should be:\n",
    "\n",
    "    UPPER CASE 1\n",
    "    LOWER CASE 9"
   ]
  },
  {
   "cell_type": "code",
   "execution_count": 4,
   "id": "72ad3b1a",
   "metadata": {},
   "outputs": [
    {
     "name": "stdout",
     "output_type": "stream",
     "text": [
      "Enter input string :: Hello world!\n",
      "UPPER CASE 1\n",
      "LOWER CASE 9\n"
     ]
    }
   ],
   "source": [
    "input_str = input(\"Enter input string :: \")\n",
    "\n",
    "upper_case_letters = 0\n",
    "lower_case_letters = 0\n",
    "\n",
    "for s in input_str:\n",
    "    if s.islower():\n",
    "        lower_case_letters += 1\n",
    "    elif s.isupper():\n",
    "        upper_case_letters += 1\n",
    "\n",
    "print(f\"UPPER CASE {upper_case_letters}\")\n",
    "print(f\"LOWER CASE {lower_case_letters}\")"
   ]
  },
  {
   "cell_type": "markdown",
   "id": "4d490bfe",
   "metadata": {},
   "source": [
    "#### 15. Give an example of the fsum and sum function of the math library."
   ]
  },
  {
   "cell_type": "code",
   "execution_count": 6,
   "id": "f383b4d4",
   "metadata": {},
   "outputs": [
    {
     "name": "stdout",
     "output_type": "stream",
     "text": [
      "45\n",
      "45.0\n"
     ]
    }
   ],
   "source": [
    "\n",
    "# sum()\n",
    "print(sum([1, 2, 3, 4, 5, 6, 7, 8, 9]))\n",
    "\n",
    "# fsum()\n",
    "print(math.fsum([1, 2, 3, 4, 5, 6, 7, 8, 9]))\n"
   ]
  },
  {
   "cell_type": "code",
   "execution_count": null,
   "id": "18e7b279",
   "metadata": {},
   "outputs": [],
   "source": []
  }
 ],
 "metadata": {
  "kernelspec": {
   "display_name": "Python 3 (ipykernel)",
   "language": "python",
   "name": "python3"
  },
  "language_info": {
   "codemirror_mode": {
    "name": "ipython",
    "version": 3
   },
   "file_extension": ".py",
   "mimetype": "text/x-python",
   "name": "python",
   "nbconvert_exporter": "python",
   "pygments_lexer": "ipython3",
   "version": "3.10.8"
  }
 },
 "nbformat": 4,
 "nbformat_minor": 5
}
