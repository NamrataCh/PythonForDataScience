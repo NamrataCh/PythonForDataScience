{
 "cells": [
  {
   "cell_type": "markdown",
   "id": "b3f25ff1",
   "metadata": {},
   "source": [
    "### Case Study – 3\n",
    "\n",
    "#### Questions:\n",
    "1. The data file contains numerical attributes that describe a letter and its\n",
    "corresponding class. Read the datafile “letterCG.data” and set all the numerical\n",
    "attributes as features. Split the data into train and test sets.\n",
    "\n",
    "2. Fit a sequence of AdaBoostClassifier with varying numbers of weak learners\n",
    "ranging from 1 to 16, keeping the max_depth as 1. Plot the accuracy of the test\n",
    "set against the number of weak learners. Use the decision tree classifier as the\n",
    "base classifier.\n",
    "\n",
    "3. Repeat step2 with max_depth set as 2."
   ]
  },
  {
   "cell_type": "code",
   "execution_count": 9,
   "id": "e81d09c7",
   "metadata": {},
   "outputs": [],
   "source": [
    "import pandas as pd\n",
    "from sklearn.model_selection import train_test_split\n",
    "from sklearn.tree import DecisionTreeClassifier\n",
    "from sklearn.ensemble import AdaBoostClassifier\n",
    "from sklearn.metrics import accuracy_score"
   ]
  },
  {
   "cell_type": "code",
   "execution_count": 11,
   "id": "317e26eb",
   "metadata": {},
   "outputs": [
    {
     "name": "stdout",
     "output_type": "stream",
     "text": [
      "<class 'pandas.core.frame.DataFrame'>\n",
      "RangeIndex: 1509 entries, 0 to 1508\n",
      "Data columns (total 19 columns):\n",
      " #   Column       Non-Null Count  Dtype  \n",
      "---  ------       --------------  -----  \n",
      " 0   Class        1509 non-null   object \n",
      " 1   x-box        1509 non-null   int64  \n",
      " 2   y-box        1509 non-null   int64  \n",
      " 3   width        1509 non-null   int64  \n",
      " 4   high         1509 non-null   int64  \n",
      " 5   Unnamed: 5   1509 non-null   int64  \n",
      " 6   onpix        1509 non-null   int64  \n",
      " 7   x-bar        1509 non-null   int64  \n",
      " 8   y-bar        1509 non-null   int64  \n",
      " 9   x2bar        1509 non-null   int64  \n",
      " 10  y2bar        1509 non-null   int64  \n",
      " 11  xybar        1509 non-null   int64  \n",
      " 12  x2ybr        1509 non-null   int64  \n",
      " 13  xy2br        1509 non-null   int64  \n",
      " 14  x-ege        1509 non-null   int64  \n",
      " 15  xegvy        1509 non-null   int64  \n",
      " 16  y-ege        1509 non-null   int64  \n",
      " 17  yegvx        0 non-null      float64\n",
      " 18  Unnamed: 18  0 non-null      float64\n",
      "dtypes: float64(2), int64(16), object(1)\n",
      "memory usage: 224.1+ KB\n"
     ]
    }
   ],
   "source": [
    "# 1. The data file contains numerical attributes that describe a letter and its corresponding class.\n",
    "# Read the datafile “letterCG.data” and set all the numerical attributes as features. Split the data into train and test sets.\n",
    "\n",
    "df=pd.read_csv(\"data/letterCG.data\", sep=\" \")\n",
    "df.info()"
   ]
  },
  {
   "cell_type": "code",
   "execution_count": 13,
   "id": "0e5c1547",
   "metadata": {},
   "outputs": [],
   "source": [
    "X=df.iloc[:, 1:17]\n",
    "y=df[\"Class\"]\n",
    "\n",
    "X_train, X_test, y_train, y_test=train_test_split(X,y, test_size=0.2, random_state=42)"
   ]
  },
  {
   "cell_type": "code",
   "execution_count": 14,
   "id": "dd8f4490",
   "metadata": {},
   "outputs": [
    {
     "name": "stdout",
     "output_type": "stream",
     "text": [
      "0.956953642384106\n"
     ]
    }
   ],
   "source": [
    "# 2. Fit a sequence of AdaBoostClassifier with varying numbers of weak learners ranging from 1 to 16, \n",
    "# keeping the max_depth as 1. Plot the accuracy of the test set against the number of weak learners.\n",
    "# Use the decision tree classifier as the base classifier.\n",
    "base_estimator=DecisionTreeClassifier(max_depth=1)\n",
    "\n",
    "ada_boost_classifier=AdaBoostClassifier(base_estimator=base_estimator, n_estimators=200, learning_rate=1, random_state=0)\n",
    "\n",
    "ada_boost_classifier.fit(X_train, y_train)\n",
    "y_predict=ada_boost_classifier.predict(X_test)\n",
    "\n",
    "print(accuracy_score(y_test, y_predict))"
   ]
  },
  {
   "cell_type": "code",
   "execution_count": 15,
   "id": "2fd01427",
   "metadata": {},
   "outputs": [
    {
     "name": "stdout",
     "output_type": "stream",
     "text": [
      "0.9735099337748344\n"
     ]
    }
   ],
   "source": [
    "# 3. Repeat step2 with max_depth set as 2.\n",
    "base_estimator=DecisionTreeClassifier(max_depth=2)\n",
    "\n",
    "ada_boost_classifier=AdaBoostClassifier(base_estimator=base_estimator, n_estimators=200, learning_rate=1, random_state=0)\n",
    "\n",
    "ada_boost_classifier.fit(X_train, y_train)\n",
    "y_predict=ada_boost_classifier.predict(X_test)\n",
    "\n",
    "print(accuracy_score(y_test, y_predict))\n"
   ]
  },
  {
   "cell_type": "code",
   "execution_count": null,
   "id": "83efd735",
   "metadata": {},
   "outputs": [],
   "source": []
  }
 ],
 "metadata": {
  "kernelspec": {
   "display_name": "Python 3 (ipykernel)",
   "language": "python",
   "name": "python3"
  },
  "language_info": {
   "codemirror_mode": {
    "name": "ipython",
    "version": 3
   },
   "file_extension": ".py",
   "mimetype": "text/x-python",
   "name": "python",
   "nbconvert_exporter": "python",
   "pygments_lexer": "ipython3",
   "version": "3.10.8"
  }
 },
 "nbformat": 4,
 "nbformat_minor": 5
}
