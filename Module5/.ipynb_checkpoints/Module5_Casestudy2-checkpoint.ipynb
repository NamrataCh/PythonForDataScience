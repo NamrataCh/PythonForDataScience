{
 "cells": [
  {
   "cell_type": "markdown",
   "id": "fbab2575",
   "metadata": {},
   "source": [
    "### Case Study – 2\n",
    "\n",
    "#### Domain –HR\n",
    "\n",
    "#### focus – Insights from data\n",
    "\n",
    "#### Business challenge/requirement\n",
    "SFO Public Department - referred to as SFO has captured all the salary data of its\n",
    "employees from the year 2011-2014. Now we are in the year 2015 and the\n",
    "organization is facing a financial crisis. As the first step HR wants to rationalize\n",
    "employee costs to save the payroll budget. You have to do data manipulation and\n",
    "analysis on the salary data to answer specific questions for cost savings.\n",
    "\n",
    "#### Key issues\n",
    "Cost can be saved by figuring out the key pockets of high salaries\n",
    "\n",
    "#### Considerations\n",
    "NONE\n",
    "\n",
    "#### Data volume\n",
    "- Approx 150K records across files\n",
    "\n",
    "#### additional information\n",
    "- NA\n",
    "\n",
    "#### Business benefits\n",
    "Save at least 10% of employee costs by identifying and letting them go\n",
    "\n",
    "#### Approach to Solve\n",
    "You have to use the fundamentals of Pandas covered in module 6 and answer the\n",
    "following 5 Questions\n",
    "\n"
   ]
  },
  {
   "cell_type": "code",
   "execution_count": 1,
   "id": "48e34694",
   "metadata": {},
   "outputs": [],
   "source": [
    "import pandas as pd"
   ]
  },
  {
   "cell_type": "code",
   "execution_count": 3,
   "id": "d551311f",
   "metadata": {},
   "outputs": [
    {
     "name": "stderr",
     "output_type": "stream",
     "text": [
      "C:\\Users\\736944\\AppData\\Local\\Temp\\ipykernel_13960\\1942971679.py:1: DtypeWarning: Columns (12) have mixed types. Specify dtype option on import or set low_memory=False.\n",
      "  df=pd.read_csv(\"data/salaries.csv\")\n"
     ]
    },
    {
     "data": {
      "text/html": [
       "<div>\n",
       "<style scoped>\n",
       "    .dataframe tbody tr th:only-of-type {\n",
       "        vertical-align: middle;\n",
       "    }\n",
       "\n",
       "    .dataframe tbody tr th {\n",
       "        vertical-align: top;\n",
       "    }\n",
       "\n",
       "    .dataframe thead th {\n",
       "        text-align: right;\n",
       "    }\n",
       "</style>\n",
       "<table border=\"1\" class=\"dataframe\">\n",
       "  <thead>\n",
       "    <tr style=\"text-align: right;\">\n",
       "      <th></th>\n",
       "      <th>Id</th>\n",
       "      <th>EmployeeName</th>\n",
       "      <th>JobTitle</th>\n",
       "      <th>BasePay</th>\n",
       "      <th>OvertimePay</th>\n",
       "      <th>OtherPay</th>\n",
       "      <th>Benefits</th>\n",
       "      <th>TotalPay</th>\n",
       "      <th>TotalPayBenefits</th>\n",
       "      <th>Year</th>\n",
       "      <th>Notes</th>\n",
       "      <th>Agency</th>\n",
       "      <th>Status</th>\n",
       "    </tr>\n",
       "  </thead>\n",
       "  <tbody>\n",
       "    <tr>\n",
       "      <th>0</th>\n",
       "      <td>1</td>\n",
       "      <td>NATHANIEL FORD</td>\n",
       "      <td>GENERAL MANAGER-METROPOLITAN TRANSIT AUTHORITY</td>\n",
       "      <td>167411.18</td>\n",
       "      <td>0.00</td>\n",
       "      <td>400184.25</td>\n",
       "      <td>NaN</td>\n",
       "      <td>567595.43</td>\n",
       "      <td>567595.43</td>\n",
       "      <td>2011</td>\n",
       "      <td>NaN</td>\n",
       "      <td>San Francisco</td>\n",
       "      <td>NaN</td>\n",
       "    </tr>\n",
       "    <tr>\n",
       "      <th>1</th>\n",
       "      <td>2</td>\n",
       "      <td>GARY JIMENEZ</td>\n",
       "      <td>CAPTAIN III (POLICE DEPARTMENT)</td>\n",
       "      <td>155966.02</td>\n",
       "      <td>245131.88</td>\n",
       "      <td>137811.38</td>\n",
       "      <td>NaN</td>\n",
       "      <td>538909.28</td>\n",
       "      <td>538909.28</td>\n",
       "      <td>2011</td>\n",
       "      <td>NaN</td>\n",
       "      <td>San Francisco</td>\n",
       "      <td>NaN</td>\n",
       "    </tr>\n",
       "    <tr>\n",
       "      <th>2</th>\n",
       "      <td>3</td>\n",
       "      <td>ALBERT PARDINI</td>\n",
       "      <td>CAPTAIN III (POLICE DEPARTMENT)</td>\n",
       "      <td>212739.13</td>\n",
       "      <td>106088.18</td>\n",
       "      <td>16452.60</td>\n",
       "      <td>NaN</td>\n",
       "      <td>335279.91</td>\n",
       "      <td>335279.91</td>\n",
       "      <td>2011</td>\n",
       "      <td>NaN</td>\n",
       "      <td>San Francisco</td>\n",
       "      <td>NaN</td>\n",
       "    </tr>\n",
       "    <tr>\n",
       "      <th>3</th>\n",
       "      <td>4</td>\n",
       "      <td>CHRISTOPHER CHONG</td>\n",
       "      <td>WIRE ROPE CABLE MAINTENANCE MECHANIC</td>\n",
       "      <td>77916.00</td>\n",
       "      <td>56120.71</td>\n",
       "      <td>198306.90</td>\n",
       "      <td>NaN</td>\n",
       "      <td>332343.61</td>\n",
       "      <td>332343.61</td>\n",
       "      <td>2011</td>\n",
       "      <td>NaN</td>\n",
       "      <td>San Francisco</td>\n",
       "      <td>NaN</td>\n",
       "    </tr>\n",
       "    <tr>\n",
       "      <th>4</th>\n",
       "      <td>5</td>\n",
       "      <td>PATRICK GARDNER</td>\n",
       "      <td>DEPUTY CHIEF OF DEPARTMENT,(FIRE DEPARTMENT)</td>\n",
       "      <td>134401.60</td>\n",
       "      <td>9737.00</td>\n",
       "      <td>182234.59</td>\n",
       "      <td>NaN</td>\n",
       "      <td>326373.19</td>\n",
       "      <td>326373.19</td>\n",
       "      <td>2011</td>\n",
       "      <td>NaN</td>\n",
       "      <td>San Francisco</td>\n",
       "      <td>NaN</td>\n",
       "    </tr>\n",
       "  </tbody>\n",
       "</table>\n",
       "</div>"
      ],
      "text/plain": [
       "   Id       EmployeeName                                        JobTitle  \\\n",
       "0   1     NATHANIEL FORD  GENERAL MANAGER-METROPOLITAN TRANSIT AUTHORITY   \n",
       "1   2       GARY JIMENEZ                 CAPTAIN III (POLICE DEPARTMENT)   \n",
       "2   3     ALBERT PARDINI                 CAPTAIN III (POLICE DEPARTMENT)   \n",
       "3   4  CHRISTOPHER CHONG            WIRE ROPE CABLE MAINTENANCE MECHANIC   \n",
       "4   5    PATRICK GARDNER    DEPUTY CHIEF OF DEPARTMENT,(FIRE DEPARTMENT)   \n",
       "\n",
       "     BasePay  OvertimePay   OtherPay  Benefits   TotalPay  TotalPayBenefits  \\\n",
       "0  167411.18         0.00  400184.25       NaN  567595.43         567595.43   \n",
       "1  155966.02    245131.88  137811.38       NaN  538909.28         538909.28   \n",
       "2  212739.13    106088.18   16452.60       NaN  335279.91         335279.91   \n",
       "3   77916.00     56120.71  198306.90       NaN  332343.61         332343.61   \n",
       "4  134401.60      9737.00  182234.59       NaN  326373.19         326373.19   \n",
       "\n",
       "   Year  Notes         Agency Status  \n",
       "0  2011    NaN  San Francisco    NaN  \n",
       "1  2011    NaN  San Francisco    NaN  \n",
       "2  2011    NaN  San Francisco    NaN  \n",
       "3  2011    NaN  San Francisco    NaN  \n",
       "4  2011    NaN  San Francisco    NaN  "
      ]
     },
     "execution_count": 3,
     "metadata": {},
     "output_type": "execute_result"
    }
   ],
   "source": [
    "df=pd.read_csv(\"data/salaries.csv\")\n",
    "df.head()"
   ]
  },
  {
   "cell_type": "markdown",
   "id": "139879da",
   "metadata": {},
   "source": [
    "#### 1. Compute how much total salary cost has increased from the year 2011 to 2014\n"
   ]
  },
  {
   "cell_type": "code",
   "execution_count": 29,
   "id": "586f72b8",
   "metadata": {},
   "outputs": [
    {
     "name": "stdout",
     "output_type": "stream",
     "text": [
      "Total increased salary cost from the year 2011 to 2014 : 282797920.54000044\n"
     ]
    },
    {
     "name": "stderr",
     "output_type": "stream",
     "text": [
      "C:\\Users\\736944\\AppData\\Local\\Temp\\ipykernel_16960\\3987180827.py:2: FutureWarning: The default value of numeric_only in DataFrameGroupBy.sum is deprecated. In a future version, numeric_only will default to False. Either specify numeric_only or select only columns which should be valid for the function.\n",
      "  groupby_df=df.groupby(\"Year\").sum()[[\"TotalPay\"]]\n"
     ]
    }
   ],
   "source": [
    "#TotalPay, Year\n",
    "groupby_df=df.groupby(\"Year\").sum()[[\"TotalPay\"]] \n",
    "groupby_df\n",
    "totalpay_2011=float(groupby_df.query(\"Year ==2011\")[\"TotalPay\"])\n",
    "totalpay_2014=float(groupby_df.query(\"Year==2014\")[\"TotalPay\"])\n",
    "\n",
    "increased_total_pay=(totalpay_2014- totalpay_2011)\n",
    "print(f\"Total increased salary cost from the year 2011 to 2014 : {increased_total_pay}\")\n"
   ]
  },
  {
   "cell_type": "markdown",
   "id": "1a3ea141",
   "metadata": {},
   "source": [
    "#### 2. Which Job Title in the Year 2014 has the highest mean salary"
   ]
  },
  {
   "cell_type": "code",
   "execution_count": 54,
   "id": "e8eb3e10",
   "metadata": {},
   "outputs": [
    {
     "name": "stdout",
     "output_type": "stream",
     "text": [
      "Job Title in the Year 2014 has the highest mean salary                           TotalPay\n",
      "JobTitle                          \n",
      "Chief Investment Officer  339653.7\n"
     ]
    },
    {
     "name": "stderr",
     "output_type": "stream",
     "text": [
      "C:\\Users\\736944\\AppData\\Local\\Temp\\ipykernel_16960\\2761109194.py:1: FutureWarning: The default value of numeric_only in DataFrameGroupBy.mean is deprecated. In a future version, numeric_only will default to False. Either specify numeric_only or select only columns which should be valid for the function.\n",
      "  groupby_job=df.query(\"Year==2014\").groupby(\"JobTitle\").mean()[[\"TotalPay\"]]\n"
     ]
    }
   ],
   "source": [
    "groupby_job=df.query(\"Year==2014\").groupby(\"JobTitle\").mean()[[\"TotalPay\"]]\n",
    "highest_salary=groupby_job[\"TotalPay\"].max()\n",
    "high_pay_job_title=groupby_job[groupby_job[\"TotalPay\"]==highest_salary]\n",
    "print(f\"Job Title in the Year 2014 has the highest mean salary {str(high_pay_job_title)}\")"
   ]
  },
  {
   "cell_type": "markdown",
   "id": "6e45fa86",
   "metadata": {},
   "source": [
    "#### 3. How much money could have been saved in the Year 2014 by stopping OverTimePay?\n"
   ]
  },
  {
   "cell_type": "code",
   "execution_count": 60,
   "id": "c7baa530",
   "metadata": {},
   "outputs": [
    {
     "name": "stdout",
     "output_type": "stream",
     "text": [
      "money could have been saved in the Year 2014 by stopping OverTimePay: 205918599.27\n"
     ]
    },
    {
     "name": "stderr",
     "output_type": "stream",
     "text": [
      "C:\\Users\\736944\\AppData\\Local\\Temp\\ipykernel_16960\\2899240168.py:1: FutureWarning: The default value of numeric_only in DataFrameGroupBy.sum is deprecated. In a future version, numeric_only will default to False. Either specify numeric_only or select only columns which should be valid for the function.\n",
      "  groupby_overtime=df.groupby(\"Year\").sum()[[\"OvertimePay\"]]\n"
     ]
    }
   ],
   "source": [
    "groupby_overtime=df.groupby(\"Year\").sum()[[\"OvertimePay\"]]\n",
    "total_over_time_pay_savings=float(groupby_overtime.query(\"Year==2014\")[\"OvertimePay\"])\n",
    "print(f\"money could have been saved in the Year 2014 by stopping OverTimePay: {total_over_time_pay_savings}\" )"
   ]
  },
  {
   "cell_type": "markdown",
   "id": "21426a4c",
   "metadata": {},
   "source": [
    "#### 4. Which are the top 5 common jobs in the Year 2014 and how much do they cost SFO?"
   ]
  },
  {
   "cell_type": "code",
   "execution_count": 76,
   "id": "38b73ec1",
   "metadata": {},
   "outputs": [
    {
     "data": {
      "text/html": [
       "<div>\n",
       "<style scoped>\n",
       "    .dataframe tbody tr th:only-of-type {\n",
       "        vertical-align: middle;\n",
       "    }\n",
       "\n",
       "    .dataframe tbody tr th {\n",
       "        vertical-align: top;\n",
       "    }\n",
       "\n",
       "    .dataframe thead th {\n",
       "        text-align: right;\n",
       "    }\n",
       "</style>\n",
       "<table border=\"1\" class=\"dataframe\">\n",
       "  <thead>\n",
       "    <tr style=\"text-align: right;\">\n",
       "      <th></th>\n",
       "      <th></th>\n",
       "      <th>TotalPay</th>\n",
       "    </tr>\n",
       "    <tr>\n",
       "      <th>Year</th>\n",
       "      <th>JobTitle</th>\n",
       "      <th></th>\n",
       "    </tr>\n",
       "  </thead>\n",
       "  <tbody>\n",
       "    <tr>\n",
       "      <th rowspan=\"5\" valign=\"top\">2014</th>\n",
       "      <th>Transit Operator</th>\n",
       "      <td>2479</td>\n",
       "    </tr>\n",
       "    <tr>\n",
       "      <th>Special Nurse</th>\n",
       "      <td>1478</td>\n",
       "    </tr>\n",
       "    <tr>\n",
       "      <th>Registered Nurse</th>\n",
       "      <td>1234</td>\n",
       "    </tr>\n",
       "    <tr>\n",
       "      <th>Public Svc Aide-Public Works</th>\n",
       "      <td>916</td>\n",
       "    </tr>\n",
       "    <tr>\n",
       "      <th>Firefighter</th>\n",
       "      <td>815</td>\n",
       "    </tr>\n",
       "  </tbody>\n",
       "</table>\n",
       "</div>"
      ],
      "text/plain": [
       "                                   TotalPay\n",
       "Year JobTitle                              \n",
       "2014 Transit Operator                  2479\n",
       "     Special Nurse                     1478\n",
       "     Registered Nurse                  1234\n",
       "     Public Svc Aide-Public Works       916\n",
       "     Firefighter                        815"
      ]
     },
     "execution_count": 76,
     "metadata": {},
     "output_type": "execute_result"
    }
   ],
   "source": [
    "groupby_common_job_df=df.groupby([\"Year\", \"JobTitle\"]).count().filter([\"Year\", \"JobTitle\",\"TotalPay\"])\n",
    "df_common_job_2014=groupby_common_job_df.query(\"Year==2014\")\n",
    "df_common_job_2014.sort_values(\"TotalPay\", ascending=False).head()"
   ]
  },
  {
   "cell_type": "markdown",
   "id": "52c22e67",
   "metadata": {},
   "source": [
    "#### 5. Who was the top earning employee across all the years?"
   ]
  },
  {
   "cell_type": "code",
   "execution_count": 25,
   "id": "b152be4c",
   "metadata": {},
   "outputs": [
    {
     "data": {
      "text/html": [
       "<div>\n",
       "<style scoped>\n",
       "    .dataframe tbody tr th:only-of-type {\n",
       "        vertical-align: middle;\n",
       "    }\n",
       "\n",
       "    .dataframe tbody tr th {\n",
       "        vertical-align: top;\n",
       "    }\n",
       "\n",
       "    .dataframe thead th {\n",
       "        text-align: right;\n",
       "    }\n",
       "</style>\n",
       "<table border=\"1\" class=\"dataframe\">\n",
       "  <thead>\n",
       "    <tr style=\"text-align: right;\">\n",
       "      <th></th>\n",
       "      <th>Id</th>\n",
       "      <th>EmployeeName</th>\n",
       "      <th>JobTitle</th>\n",
       "      <th>BasePay</th>\n",
       "      <th>OvertimePay</th>\n",
       "      <th>OtherPay</th>\n",
       "      <th>Benefits</th>\n",
       "      <th>TotalPay</th>\n",
       "      <th>TotalPayBenefits</th>\n",
       "      <th>Year</th>\n",
       "      <th>Notes</th>\n",
       "      <th>Agency</th>\n",
       "      <th>Status</th>\n",
       "    </tr>\n",
       "  </thead>\n",
       "  <tbody>\n",
       "    <tr>\n",
       "      <th>0</th>\n",
       "      <td>1</td>\n",
       "      <td>NATHANIEL FORD</td>\n",
       "      <td>GENERAL MANAGER-METROPOLITAN TRANSIT AUTHORITY</td>\n",
       "      <td>167411.18</td>\n",
       "      <td>0.0</td>\n",
       "      <td>400184.25</td>\n",
       "      <td>NaN</td>\n",
       "      <td>567595.43</td>\n",
       "      <td>567595.43</td>\n",
       "      <td>2011</td>\n",
       "      <td>NaN</td>\n",
       "      <td>San Francisco</td>\n",
       "      <td>NaN</td>\n",
       "    </tr>\n",
       "  </tbody>\n",
       "</table>\n",
       "</div>"
      ],
      "text/plain": [
       "   Id    EmployeeName                                        JobTitle  \\\n",
       "0   1  NATHANIEL FORD  GENERAL MANAGER-METROPOLITAN TRANSIT AUTHORITY   \n",
       "\n",
       "     BasePay  OvertimePay   OtherPay  Benefits   TotalPay  TotalPayBenefits  \\\n",
       "0  167411.18          0.0  400184.25       NaN  567595.43         567595.43   \n",
       "\n",
       "   Year  Notes         Agency Status  \n",
       "0  2011    NaN  San Francisco    NaN  "
      ]
     },
     "execution_count": 25,
     "metadata": {},
     "output_type": "execute_result"
    }
   ],
   "source": [
    "df_top_earning_emp=df[df[\"TotalPay\"]==df[\"TotalPay\"].max()]\n",
    "df_top_earning_emp\n"
   ]
  },
  {
   "cell_type": "markdown",
   "id": "1365bd6c",
   "metadata": {},
   "source": [
    "### Enhancements for code\n",
    "\n",
    "#### You can try these enhancements in code\n",
    "\n",
    "#### 1. Which are the last 5 common jobs in the Year 2014 and how much do they cost SFO?\n"
   ]
  },
  {
   "cell_type": "code",
   "execution_count": 46,
   "id": "69a503c9",
   "metadata": {},
   "outputs": [
    {
     "data": {
      "text/html": [
       "<div>\n",
       "<style scoped>\n",
       "    .dataframe tbody tr th:only-of-type {\n",
       "        vertical-align: middle;\n",
       "    }\n",
       "\n",
       "    .dataframe tbody tr th {\n",
       "        vertical-align: top;\n",
       "    }\n",
       "\n",
       "    .dataframe thead th {\n",
       "        text-align: right;\n",
       "    }\n",
       "</style>\n",
       "<table border=\"1\" class=\"dataframe\">\n",
       "  <thead>\n",
       "    <tr style=\"text-align: right;\">\n",
       "      <th></th>\n",
       "      <th></th>\n",
       "      <th>TotalPay</th>\n",
       "    </tr>\n",
       "    <tr>\n",
       "      <th>Year</th>\n",
       "      <th>JobTitle</th>\n",
       "      <th></th>\n",
       "    </tr>\n",
       "  </thead>\n",
       "  <tbody>\n",
       "    <tr>\n",
       "      <th rowspan=\"5\" valign=\"top\">2014</th>\n",
       "      <th>Marina Associate Manager</th>\n",
       "      <td>1</td>\n",
       "    </tr>\n",
       "    <tr>\n",
       "      <th>Marina Assistant Manager</th>\n",
       "      <td>1</td>\n",
       "    </tr>\n",
       "    <tr>\n",
       "      <th>Light Rail Vehicle Equip Eng</th>\n",
       "      <td>1</td>\n",
       "    </tr>\n",
       "    <tr>\n",
       "      <th>Lieutenant (Police Department)</th>\n",
       "      <td>1</td>\n",
       "    </tr>\n",
       "    <tr>\n",
       "      <th>Youth Comm Advisor</th>\n",
       "      <td>1</td>\n",
       "    </tr>\n",
       "  </tbody>\n",
       "</table>\n",
       "</div>"
      ],
      "text/plain": [
       "                                     TotalPay\n",
       "Year JobTitle                                \n",
       "2014 Marina Associate Manager               1\n",
       "     Marina Assistant Manager               1\n",
       "     Light Rail Vehicle Equip Eng           1\n",
       "     Lieutenant (Police Department)         1\n",
       "     Youth Comm Advisor                     1"
      ]
     },
     "execution_count": 46,
     "metadata": {},
     "output_type": "execute_result"
    }
   ],
   "source": [
    "df_coomon_jobs_2014=df.groupby(['Year', 'JobTitle']).count().filter(['JobTitle', \"TotalPay\"]).query(\"Year==2014\").sort_values(\"TotalPay\", ascending=False)\n",
    "df_coomon_jobs_2014.tail()"
   ]
  },
  {
   "cell_type": "markdown",
   "id": "5bc376dd",
   "metadata": {},
   "source": [
    "#### 2. In year 201 OverTimePay was what percentage of TotalPayBenefits\n"
   ]
  },
  {
   "cell_type": "code",
   "execution_count": 63,
   "id": "6e608e32",
   "metadata": {},
   "outputs": [
    {
     "name": "stdout",
     "output_type": "stream",
     "text": [
      "163819110.92000002\n",
      "2594113030.72\n",
      "Percentage: 6.32 %\n"
     ]
    }
   ],
   "source": [
    "df_2011=df.query(\"Year==2011\")\n",
    "\n",
    "over_time_pay=float(df_2011[\"OvertimePay\"].sum())\n",
    "total_benifit_pay=float(df_2011[\"TotalPayBenefits\"].sum())\n",
    "print(over_time_pay)\n",
    "print(total_benifit_pay)\n",
    "per=(over_time_pay/total_benifit_pay)*100\n",
    "print(f\"Percentage: {round(per, 2)} %\")"
   ]
  },
  {
   "cell_type": "code",
   "execution_count": null,
   "id": "af996fd3",
   "metadata": {},
   "outputs": [],
   "source": []
  },
  {
   "cell_type": "markdown",
   "id": "b34375b0",
   "metadata": {},
   "source": [
    "#### 3. Which Job Title in the Year 2014 has the lowest mean salary?"
   ]
  },
  {
   "cell_type": "code",
   "execution_count": null,
   "id": "07d289c9",
   "metadata": {},
   "outputs": [],
   "source": []
  }
 ],
 "metadata": {
  "kernelspec": {
   "display_name": "Python 3 (ipykernel)",
   "language": "python",
   "name": "python3"
  },
  "language_info": {
   "codemirror_mode": {
    "name": "ipython",
    "version": 3
   },
   "file_extension": ".py",
   "mimetype": "text/x-python",
   "name": "python",
   "nbconvert_exporter": "python",
   "pygments_lexer": "ipython3",
   "version": "3.10.8"
  }
 },
 "nbformat": 4,
 "nbformat_minor": 5
}
