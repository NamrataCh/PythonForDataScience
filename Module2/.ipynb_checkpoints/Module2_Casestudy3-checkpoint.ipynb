{
 "cells": [
  {
   "cell_type": "markdown",
   "id": "3f8ece97",
   "metadata": {},
   "source": [
    "### Case Study – 3\n",
    "\n",
    "#### Domain –Telecom\n",
    "\n",
    "#### focus – Optimization\n",
    "\n",
    "#### Business challenge/requirement\n",
    "LifeTel Telecom is the latest entrant in the highly competitive Telecom market of\n",
    "Singapore. It issues SIM to the verified users. Till now verification was manual\n",
    "through the photocopy of the approved id card document. However, the government\n",
    "has recently introduced a Social ID called Reference ID which is mapped to the\n",
    "fingerprint of the user. LifeTel should now verify the user against the fingerprint and\n",
    "Reference ID\n",
    "\n",
    "#### Key issues\n",
    "Build a system where when a user enters Reference ID it is encrypted so that hackers\n",
    "cannot view the mapping of Reference ID and fingerprint\n",
    "\n",
    "#### Considerations\n",
    "The system should be secure\n",
    "\n",
    "#### Data volume\n",
    "- NA\n",
    "\n",
    "#### Additional information\n",
    "- NA\n",
    "\n",
    "#### Business benefits\n",
    "The company will be able to quickly issue SIM to the user and the expected gain in\n",
    "volume is approximately 10 times as the manual process of verification is replaced\n",
    "with a secure automated system"
   ]
  },
  {
   "cell_type": "markdown",
   "id": "718d541e",
   "metadata": {},
   "source": [
    "### Approach to Solve\n",
    "You must use the fundamentals of Python taught in module 1\n",
    "1. Read the input from the command line – Reference ID\n",
    "2. Check for validity – it should be 12 digits and allows for number and alphabet\n",
    "3. Encrypt the Reference ID and print it for reference\n"
   ]
  },
  {
   "cell_type": "code",
   "execution_count": 15,
   "id": "ca2db9f8",
   "metadata": {},
   "outputs": [
    {
     "name": "stdout",
     "output_type": "stream",
     "text": [
      "Please enter 12 digit reference id which should contain numbers and alphabets:: abc23def45dgf\n",
      "Reference ID is valid\n"
     ]
    }
   ],
   "source": [
    "# 1. Read the input from the command line – Reference ID\n",
    "reference_id=input(\"Please enter 12 digit reference id which should contain numbers and alphabets:: \")\n",
    "\n",
    "# 2. Check for validity – it should be 12 digits and allows for number and alphabet\n",
    "if len(reference_id)>=12 and any(chr.isalpha() for chr in reference_id) and any(chr.isdigit() for chr in reference_id):\n",
    "    print(\"Reference ID is valid\")\n",
    "else:\n",
    "    print(\"Reference ID is not valid, please re-enter it\")\n"
   ]
  },
  {
   "cell_type": "code",
   "execution_count": 16,
   "id": "382b288a",
   "metadata": {},
   "outputs": [
    {
     "data": {
      "text/plain": [
       "'wpLClMKWZmjCmsKcwp5tZsKWwprCmg=='"
      ]
     },
     "execution_count": 16,
     "metadata": {},
     "output_type": "execute_result"
    }
   ],
   "source": [
    "# 3. Encrypt the Reference ID and print it for reference\n",
    "\n",
    "import base64\n",
    "key=\"123456789\"\n",
    "\n",
    "def encode(encrypt_key, ref_id):\n",
    "    enc = []\n",
    "    for i in range(len(ref_id)):\n",
    "        key_c = encrypt_key[i % len(encrypt_key)]\n",
    "        enc_c = chr((ord(ref_id[i]) + ord(key_c)) % 256)\n",
    "        enc.append(enc_c)\n",
    "    return base64.urlsafe_b64encode(\"\".join(enc).encode()).decode()\n",
    "\n",
    "encode(key, reference_id)"
   ]
  }
 ],
 "metadata": {
  "kernelspec": {
   "display_name": "Python 3 (ipykernel)",
   "language": "python",
   "name": "python3"
  },
  "language_info": {
   "codemirror_mode": {
    "name": "ipython",
    "version": 3
   },
   "file_extension": ".py",
   "mimetype": "text/x-python",
   "name": "python",
   "nbconvert_exporter": "python",
   "pygments_lexer": "ipython3",
   "version": "3.10.8"
  }
 },
 "nbformat": 4,
 "nbformat_minor": 5
}
