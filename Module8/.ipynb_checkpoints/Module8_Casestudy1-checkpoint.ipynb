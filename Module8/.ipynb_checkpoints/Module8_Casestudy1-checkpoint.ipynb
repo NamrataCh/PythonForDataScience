{
 "cells": [
  {
   "cell_type": "markdown",
   "id": "d796c772",
   "metadata": {},
   "source": [
    "#### Objective:\n",
    "• Understand and practice principal component analysis using scikit learn.\n",
    "\n",
    "\n",
    "#### Questions:\n",
    "1. Scikit learn comes with the pre-loaded dataset, load the digits dataset from that collection and write a helper function to plot the image using matplotlib.\n",
    "\n",
    "[Hint: Explore datasets module from scikit learn]"
   ]
  },
  {
   "cell_type": "code",
   "execution_count": 15,
   "id": "a1d7d604",
   "metadata": {},
   "outputs": [],
   "source": [
    "import pandas as pd\n",
    "from sklearn.datasets import load_digits\n",
    "import matplotlib.pyplot as plt\n",
    "\n",
    "from sklearn.model_selection import train_test_split\n",
    "from sklearn.linear_model import LogisticRegression\n",
    "from sklearn.metrics import accuracy_score\n",
    "from sklearn.decomposition import PCA\n",
    "from sklearn.metrics import confusion_matrix\n",
    "from sklearn.metrics import classification_report"
   ]
  },
  {
   "cell_type": "code",
   "execution_count": 7,
   "id": "c3dba1b3",
   "metadata": {},
   "outputs": [
    {
     "data": {
      "text/plain": [
       "<Figure size 640x480 with 0 Axes>"
      ]
     },
     "metadata": {},
     "output_type": "display_data"
    },
    {
     "data": {
      "image/png": "[encoded data removed]",
      "text/plain": [
       "<Figure size 480x480 with 1 Axes>"
      ]
     },
     "metadata": {},
     "output_type": "display_data"
    }
   ],
   "source": [
    "digits=load_digits()\n",
    "\n",
    "# plot image using matplotlib\n",
    "plt.gray()\n",
    "plt.matshow(digits.images[0])\n",
    "plt.show()"
   ]
  },
  {
   "cell_type": "markdown",
   "id": "75f4820d",
   "metadata": {},
   "source": [
    "#### 2. Make a train-test split with 20% of the data set aside for testing. Fit a logistic regression model and observe the accuracy"
   ]
  },
  {
   "cell_type": "code",
   "execution_count": 8,
   "id": "6296990d",
   "metadata": {},
   "outputs": [
    {
     "name": "stdout",
     "output_type": "stream",
     "text": [
      "(1797, 64)\n",
      "(1797,)\n"
     ]
    }
   ],
   "source": [
    "X=digits.images.reshape(digits.images.shape[0], -1)\n",
    "y=digits.target\n",
    "print(X.shape)\n",
    "print(y.shape)\n"
   ]
  },
  {
   "cell_type": "code",
   "execution_count": 9,
   "id": "d8556861",
   "metadata": {},
   "outputs": [
    {
     "name": "stdout",
     "output_type": "stream",
     "text": [
      "0.9694444444444444\n"
     ]
    },
    {
     "name": "stderr",
     "output_type": "stream",
     "text": [
      "C:\\Users\\736944\\AppData\\Roaming\\Python\\Python310\\site-packages\\sklearn\\linear_model\\_logistic.py:444: ConvergenceWarning: lbfgs failed to converge (status=1):\n",
      "STOP: TOTAL NO. of ITERATIONS REACHED LIMIT.\n",
      "\n",
      "Increase the number of iterations (max_iter) or scale the data as shown in:\n",
      "    https://scikit-learn.org/stable/modules/preprocessing.html\n",
      "Please also refer to the documentation for alternative solver options:\n",
      "    https://scikit-learn.org/stable/modules/linear_model.html#logistic-regression\n",
      "  n_iter_i = _check_optimize_result(\n"
     ]
    }
   ],
   "source": [
    "#train test split\n",
    "X_train, X_test, y_train, y_test=train_test_split(X,y, test_size=0.20, random_state=42)\n",
    "\n",
    "# fit logistic regression\n",
    "model=LogisticRegression()\n",
    "model.fit(X_train, y_train)\n",
    "\n",
    "y_predict=model.predict(X_test)\n",
    "\n",
    "# accuracy of the model\n",
    "print(accuracy_score(y_test,y_predict))"
   ]
  },
  {
   "cell_type": "markdown",
   "id": "a76686c8",
   "metadata": {},
   "source": [
    "#### 3. Using scikit learn perform a PCA transformation such that the transformed dataset can explain 95% of the variance in the original dataset. Find out the number of components in the projected subspace.\n",
    "\n",
    "[Hint: Refer to decomposition module of scikit learn]\n"
   ]
  },
  {
   "cell_type": "code",
   "execution_count": 10,
   "id": "5accfe51",
   "metadata": {},
   "outputs": [
    {
     "name": "stdout",
     "output_type": "stream",
     "text": [
      "Total no of components to preserve 95% of variance: 29\n"
     ]
    }
   ],
   "source": [
    "pca=PCA(n_components=0.95) # 95% variance\n",
    "data=pca.fit_transform(X)\n",
    "print(f\"Total no of components to preserve 95% of variance: {pca.n_components_}\")"
   ]
  },
  {
   "cell_type": "markdown",
   "id": "563901cb",
   "metadata": {},
   "source": [
    "#### 4. Transform the dataset and fit a logistic regression and observe the accuracy. Compare it with the previous model and comment on the accuracy.\n",
    "\n",
    "[Hint: Project both the train and test samples to the new subspace]\n"
   ]
  },
  {
   "cell_type": "code",
   "execution_count": 11,
   "id": "9ca745d2",
   "metadata": {},
   "outputs": [
    {
     "name": "stdout",
     "output_type": "stream",
     "text": [
      "0.9611111111111111\n"
     ]
    },
    {
     "name": "stderr",
     "output_type": "stream",
     "text": [
      "C:\\Users\\736944\\AppData\\Roaming\\Python\\Python310\\site-packages\\sklearn\\linear_model\\_logistic.py:444: ConvergenceWarning: lbfgs failed to converge (status=1):\n",
      "STOP: TOTAL NO. of ITERATIONS REACHED LIMIT.\n",
      "\n",
      "Increase the number of iterations (max_iter) or scale the data as shown in:\n",
      "    https://scikit-learn.org/stable/modules/preprocessing.html\n",
      "Please also refer to the documentation for alternative solver options:\n",
      "    https://scikit-learn.org/stable/modules/linear_model.html#logistic-regression\n",
      "  n_iter_i = _check_optimize_result(\n"
     ]
    }
   ],
   "source": [
    "#train test split\n",
    "X_train, X_test, y_train, y_test=train_test_split(data,y, test_size=0.20, random_state=42)\n",
    "\n",
    "# fit logistic regression\n",
    "model=LogisticRegression()\n",
    "model.fit(X_train, y_train)\n",
    "\n",
    "y_predict=model.predict(X_test)\n",
    "\n",
    "# accuracy of the model\n",
    "print(accuracy_score(y_test,y_predict))"
   ]
  },
  {
   "cell_type": "markdown",
   "id": "4ae07db2",
   "metadata": {},
   "source": [
    "##### 5. Compute the confusion matrix and count the number of instances that have gone wrong. For each wrong sample, plot the digit along with the predicted and original label."
   ]
  },
  {
   "cell_type": "code",
   "execution_count": 16,
   "id": "2cbb6502",
   "metadata": {},
   "outputs": [
    {
     "name": "stdout",
     "output_type": "stream",
     "text": [
      "Confusion matrics\n",
      "[[33  0  0  0  0  0  0  0  0  0]\n",
      " [ 0 27  1  0  0  0  0  0  0  0]\n",
      " [ 0  1 31  1  0  0  0  0  0  0]\n",
      " [ 0  0  0 33  0  1  0  0  0  0]\n",
      " [ 0  1  0  0 45  0  0  0  0  0]\n",
      " [ 0  0  1  0  0 44  1  0  0  1]\n",
      " [ 0  0  0  0  0  1 34  0  0  0]\n",
      " [ 0  0  0  0  0  1  0 33  0  0]\n",
      " [ 0  0  0  0  0  1  0  0 29  0]\n",
      " [ 0  1  0  1  0  0  0  0  1 37]]\n",
      "_____________________________________________________________________\n",
      "Classification Report \n",
      "              precision    recall  f1-score   support\n",
      "\n",
      "           0       1.00      1.00      1.00        33\n",
      "           1       0.90      0.96      0.93        28\n",
      "           2       0.94      0.94      0.94        33\n",
      "           3       0.94      0.97      0.96        34\n",
      "           4       1.00      0.98      0.99        46\n",
      "           5       0.92      0.94      0.93        47\n",
      "           6       0.97      0.97      0.97        35\n",
      "           7       1.00      0.97      0.99        34\n",
      "           8       0.97      0.97      0.97        30\n",
      "           9       0.97      0.93      0.95        40\n",
      "\n",
      "    accuracy                           0.96       360\n",
      "   macro avg       0.96      0.96      0.96       360\n",
      "weighted avg       0.96      0.96      0.96       360\n",
      "\n"
     ]
    }
   ],
   "source": [
    "print(\"Confusion matrics\")\n",
    "print(confusion_matrix(y_test, y_predict))\n",
    "print(\"_______________________\"*3)\n",
    "print(\"Classification Report \")\n",
    "print(classification_report(y_test, y_predict))\n"
   ]
  },
  {
   "cell_type": "code",
   "execution_count": null,
   "id": "986350a3",
   "metadata": {},
   "outputs": [],
   "source": []
  },
  {
   "cell_type": "code",
   "execution_count": null,
   "id": "6548c38e",
   "metadata": {},
   "outputs": [],
   "source": []
  },
  {
   "cell_type": "code",
   "execution_count": null,
   "id": "07bba943",
   "metadata": {},
   "outputs": [],
   "source": []
  }
 ],
 "metadata": {
  "kernelspec": {
   "display_name": "Python 3 (ipykernel)",
   "language": "python",
   "name": "python3"
  },
  "language_info": {
   "codemirror_mode": {
    "name": "ipython",
    "version": 3
   },
   "file_extension": ".py",
   "mimetype": "text/x-python",
   "name": "python",
   "nbconvert_exporter": "python",
   "pygments_lexer": "ipython3",
   "version": "3.10.8"
  }
 },
 "nbformat": 4,
 "nbformat_minor": 5
}
