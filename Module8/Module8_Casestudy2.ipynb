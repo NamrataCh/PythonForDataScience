{
 "cells": [
  {
   "cell_type": "markdown",
   "id": "4f8ff49f",
   "metadata": {},
   "source": [
    "### Case Study – 2\n",
    "\n",
    "#### Objective:\n",
    "• Understand and practice linear discriminant analysis using scikit learn.\n",
    "\n",
    "#### Questions:\n",
    "1. We shall use the same dataset used in the previous assignment - digits. Make an 80-20 train/test split.\n",
    "\n",
    "[Hint: Explore datasets module from scikit learn]\n",
    "\n"
   ]
  },
  {
   "cell_type": "code",
   "execution_count": 10,
   "id": "df9c5e09",
   "metadata": {},
   "outputs": [],
   "source": [
    "import pandas as pd\n",
    "from sklearn.datasets import load_digits\n",
    "from sklearn.model_selection import train_test_split\n",
    "from sklearn.discriminant_analysis import LinearDiscriminantAnalysis\n",
    "from sklearn.linear_model import LogisticRegression\n",
    "from sklearn.metrics import accuracy_score"
   ]
  },
  {
   "cell_type": "code",
   "execution_count": 4,
   "id": "c64c2db5",
   "metadata": {},
   "outputs": [
    {
     "name": "stdout",
     "output_type": "stream",
     "text": [
      "(1797, 64)\n",
      "(1797,)\n"
     ]
    }
   ],
   "source": [
    "digits=load_digits()\n",
    "X=digits.images.reshape(digits.images.shape[0], -1)\n",
    "y=digits.target\n",
    "print(X.shape)\n",
    "print(y.shape)"
   ]
  },
  {
   "cell_type": "code",
   "execution_count": 5,
   "id": "dbfc8dbe",
   "metadata": {},
   "outputs": [],
   "source": [
    "X_train, X_test, y_train,y_test=train_test_split(X,y, test_size=.20, random_state=42)"
   ]
  },
  {
   "cell_type": "markdown",
   "id": "27b47f9c",
   "metadata": {},
   "source": [
    "#### 2. Using scikit learn to perform an LDA on the dataset. Find out the number of components in the projected subspace.\n",
    "\n",
    "[Hint: Refer to a discriminant analysis module of scikit learn]\n"
   ]
  },
  {
   "cell_type": "code",
   "execution_count": 8,
   "id": "16f6873e",
   "metadata": {},
   "outputs": [
    {
     "name": "stdout",
     "output_type": "stream",
     "text": [
      "[0.27851663 0.19023768 0.17379022 0.11077975 0.08773235]\n"
     ]
    }
   ],
   "source": [
    "lda=LinearDiscriminantAnalysis(n_components=5)\n",
    "\n",
    "lda.fit(X_train, y_train)\n",
    "\n",
    "print(lda.explained_variance_ratio_)\n",
    "\n",
    "X_train=lda.transform(X_train)\n",
    "X_test=lda.transform(X_test)"
   ]
  },
  {
   "cell_type": "markdown",
   "id": "1adad453",
   "metadata": {},
   "source": [
    "#### 3. Transform the dataset and fit a logistic regression and observe the accuracy. Compare it with the previous model based on PCA in terms of accuracy and model complexity.\n",
    "\n",
    "[Hint: Project both the train and test samples to the new subspace]"
   ]
  },
  {
   "cell_type": "code",
   "execution_count": 11,
   "id": "a31a7441",
   "metadata": {},
   "outputs": [
    {
     "name": "stdout",
     "output_type": "stream",
     "text": [
      "0.9111111111111111\n"
     ]
    },
    {
     "name": "stderr",
     "output_type": "stream",
     "text": [
      "C:\\Users\\736944\\AppData\\Roaming\\Python\\Python310\\site-packages\\sklearn\\linear_model\\_logistic.py:444: ConvergenceWarning: lbfgs failed to converge (status=1):\n",
      "STOP: TOTAL NO. of ITERATIONS REACHED LIMIT.\n",
      "\n",
      "Increase the number of iterations (max_iter) or scale the data as shown in:\n",
      "    https://scikit-learn.org/stable/modules/preprocessing.html\n",
      "Please also refer to the documentation for alternative solver options:\n",
      "    https://scikit-learn.org/stable/modules/linear_model.html#logistic-regression\n",
      "  n_iter_i = _check_optimize_result(\n"
     ]
    }
   ],
   "source": [
    "logistic_model=LogisticRegression()\n",
    "logistic_model.fit(X_train, y_train)\n",
    "\n",
    "y_predict=logistic_model.predict(X_test)\n",
    "print(accuracy_score(y_test, y_predict))"
   ]
  },
  {
   "cell_type": "code",
   "execution_count": null,
   "id": "65b14d05",
   "metadata": {},
   "outputs": [],
   "source": []
  }
 ],
 "metadata": {
  "kernelspec": {
   "display_name": "Python 3 (ipykernel)",
   "language": "python",
   "name": "python3"
  },
  "language_info": {
   "codemirror_mode": {
    "name": "ipython",
    "version": 3
   },
   "file_extension": ".py",
   "mimetype": "text/x-python",
   "name": "python",
   "nbconvert_exporter": "python",
   "pygments_lexer": "ipython3",
   "version": "3.10.8"
  }
 },
 "nbformat": 4,
 "nbformat_minor": 5
}
