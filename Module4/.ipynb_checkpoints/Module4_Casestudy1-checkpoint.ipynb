{
 "cells": [
  {
   "cell_type": "markdown",
   "id": "9b5d995c",
   "metadata": {},
   "source": [
    "#### 1. Extract data from the given SalaryGender CSV file and store the data from each column in a separate NumPy array\n"
   ]
  },
  {
   "cell_type": "code",
   "execution_count": 109,
   "id": "6d0529cf",
   "metadata": {},
   "outputs": [],
   "source": [
    "import pandas as pd\n",
    "import numpy as np\n",
    "import seaborn as sns\n",
    "import matplotlib.pyplot as plt"
   ]
  },
  {
   "cell_type": "code",
   "execution_count": 2,
   "id": "d16ff74a",
   "metadata": {},
   "outputs": [],
   "source": [
    "df=pd.read_csv(\"data/SalaryGender.csv\")"
   ]
  },
  {
   "cell_type": "code",
   "execution_count": 8,
   "id": "344f83ea",
   "metadata": {},
   "outputs": [
    {
     "name": "stdout",
     "output_type": "stream",
     "text": [
      "Salary_arr: \n",
      "[140.    30.    35.1   30.    80.    30.    60.    31.1  125.    51.\n",
      "   3.    46.   150.     3.   130.    15.   130.    84.   190.    74.\n",
      "  73.    10.    50.     7.     9.5   15.2   28.6   20.    72.    81.\n",
      " 100.    90.    90.    35.    30.    25.    52.     9.    63.    72.\n",
      "  16.    92.   106.     2.5    9.    32.    32.    55.    52.    28.\n",
      "  20.    14.7   22.3   34.8   84.    19.   160.    65.    55.     4.6\n",
      " 102.    20.    62.    55.    45.6   40.    24.    35.    48.    20.\n",
      "  40.7   15.     0.25 152.    39.8   12.    30.   120.     1.7   36.\n",
      "  96.    38.    90.     9.    25.8   22.    38.8   72.    89.    41.\n",
      "  89.    25.    52.   115.    66.    18.6  152.     1.8   35.     4.  ]\n",
      "---------------------------------------------------------------------\n",
      "gender_arr: \n",
      "[1 0 0 1 0 0 1 0 1 1 1 1 1 1 1 0 1 0 1 1 0 0 0 0 0 1 1 0 0 1 0 0 0 1 0 1 0\n",
      " 0 1 1 1 0 1 1 0 0 0 1 1 0 0 0 1 0 0 1 1 0 0 1 1 1 0 1 1 0 0 1 0 0 0 1 0 1\n",
      " 0 0 1 1 1 1 1 0 1 1 0 0 0 1 1 0 1 0 1 0 0 1 1 1 0 0]\n",
      "---------------------------------------------------------------------\n",
      "age_arr: \n",
      "[47 65 56 23 53 27 53 30 44 63 22 59 60 28 65 25 65 47 66 45 46 24 60 63\n",
      " 27 66 36 30 51 65 45 52 54 30 52 26 49 22 34 60 28 58 77 67 27 48 45 49\n",
      " 36 65 32 49 67 22 49 43 61 43 52 51 66 29 62 56 61 56 41 24 60 43 57 23\n",
      " 53 71 20 27 69 58 37 32 33 32 60 71 30 62 54 42 62 51 71 29 55 54 55 26\n",
      " 56 28 44 24]\n",
      "---------------------------------------------------------------------\n",
      "phd_arr: \n",
      "[1 1 0 0 1 0 0 0 1 1 0 0 1 0 0 0 0 1 1 1 0 0 0 0 0 1 1 0 1 1 1 1 1 0 0 0 0\n",
      " 0 1 0 0 1 1 0 0 1 0 1 0 1 0 0 0 0 1 0 1 1 0 0 1 0 0 1 0 0 0 0 0 0 0 0 0 1\n",
      " 0 0 1 1 0 1 1 1 0 0 0 0 0 1 0 1 1 0 1 0 1 0 1 0 0 0]\n",
      "---------------------------------------------------------------------\n"
     ]
    }
   ],
   "source": [
    "#'Salary', 'Gender', 'Age', 'PhD'\n",
    "salary_arr=df['Salary'].to_numpy()\n",
    "gender_arr=df['Gender'].to_numpy()\n",
    "age_arr=df['Age'].to_numpy()\n",
    "phd_arr=df['PhD'].to_numpy()\n",
    "\n",
    "print(\"Salary_arr: \")\n",
    "print(salary_arr)\n",
    "print(\"-----------------------\"*3)\n",
    "print(\"gender_arr: \")\n",
    "print(gender_arr)\n",
    "print(\"-----------------------\"*3)\n",
    "print(\"age_arr: \")\n",
    "print(age_arr)\n",
    "print(\"-----------------------\"*3)\n",
    "print(\"phd_arr: \")\n",
    "print(phd_arr)\n",
    "print(\"-----------------------\"*3)"
   ]
  },
  {
   "cell_type": "markdown",
   "id": "00a56ab3",
   "metadata": {},
   "source": [
    "#### 2. Find:\n",
    "    1. The number of men with a PhD\n",
    "    2. The number of women with a PhD\n"
   ]
  },
  {
   "cell_type": "code",
   "execution_count": 19,
   "id": "8f458d29",
   "metadata": {},
   "outputs": [
    {
     "name": "stdout",
     "output_type": "stream",
     "text": [
      "No. Of Men with PhD: 24\n",
      "No. Of Women with PhD: 15\n"
     ]
    }
   ],
   "source": [
    "men_with_phd=df.query(\"Gender==1 and PhD==1\")\n",
    "women_with_phd=df.query(\"Gender==0 and PhD==1\")\n",
    "\n",
    "print(f\"No. Of Men with PhD: {len(men_with_phd)}\")\n",
    "print(f\"No. Of Women with PhD: {len(women_with_phd)}\")"
   ]
  },
  {
   "cell_type": "markdown",
   "id": "497d44bd",
   "metadata": {},
   "source": [
    "#### 3. Use SalaryGender CSV file. Store the “Age” and “Ph.D.” columns in one DataFrame and delete the data of all people who don’t have a PhD\n"
   ]
  },
  {
   "cell_type": "code",
   "execution_count": 36,
   "id": "469029d2",
   "metadata": {},
   "outputs": [
    {
     "data": {
      "text/html": [
       "<div>\n",
       "<style scoped>\n",
       "    .dataframe tbody tr th:only-of-type {\n",
       "        vertical-align: middle;\n",
       "    }\n",
       "\n",
       "    .dataframe tbody tr th {\n",
       "        vertical-align: top;\n",
       "    }\n",
       "\n",
       "    .dataframe thead th {\n",
       "        text-align: right;\n",
       "    }\n",
       "</style>\n",
       "<table border=\"1\" class=\"dataframe\">\n",
       "  <thead>\n",
       "    <tr style=\"text-align: right;\">\n",
       "      <th></th>\n",
       "      <th>Age</th>\n",
       "      <th>PhD</th>\n",
       "    </tr>\n",
       "  </thead>\n",
       "  <tbody>\n",
       "    <tr>\n",
       "      <th>0</th>\n",
       "      <td>47</td>\n",
       "      <td>1</td>\n",
       "    </tr>\n",
       "    <tr>\n",
       "      <th>1</th>\n",
       "      <td>65</td>\n",
       "      <td>1</td>\n",
       "    </tr>\n",
       "    <tr>\n",
       "      <th>4</th>\n",
       "      <td>53</td>\n",
       "      <td>1</td>\n",
       "    </tr>\n",
       "    <tr>\n",
       "      <th>8</th>\n",
       "      <td>44</td>\n",
       "      <td>1</td>\n",
       "    </tr>\n",
       "    <tr>\n",
       "      <th>9</th>\n",
       "      <td>63</td>\n",
       "      <td>1</td>\n",
       "    </tr>\n",
       "    <tr>\n",
       "      <th>12</th>\n",
       "      <td>60</td>\n",
       "      <td>1</td>\n",
       "    </tr>\n",
       "    <tr>\n",
       "      <th>17</th>\n",
       "      <td>47</td>\n",
       "      <td>1</td>\n",
       "    </tr>\n",
       "    <tr>\n",
       "      <th>18</th>\n",
       "      <td>66</td>\n",
       "      <td>1</td>\n",
       "    </tr>\n",
       "    <tr>\n",
       "      <th>19</th>\n",
       "      <td>45</td>\n",
       "      <td>1</td>\n",
       "    </tr>\n",
       "    <tr>\n",
       "      <th>25</th>\n",
       "      <td>66</td>\n",
       "      <td>1</td>\n",
       "    </tr>\n",
       "    <tr>\n",
       "      <th>26</th>\n",
       "      <td>36</td>\n",
       "      <td>1</td>\n",
       "    </tr>\n",
       "    <tr>\n",
       "      <th>28</th>\n",
       "      <td>51</td>\n",
       "      <td>1</td>\n",
       "    </tr>\n",
       "    <tr>\n",
       "      <th>29</th>\n",
       "      <td>65</td>\n",
       "      <td>1</td>\n",
       "    </tr>\n",
       "    <tr>\n",
       "      <th>30</th>\n",
       "      <td>45</td>\n",
       "      <td>1</td>\n",
       "    </tr>\n",
       "    <tr>\n",
       "      <th>31</th>\n",
       "      <td>52</td>\n",
       "      <td>1</td>\n",
       "    </tr>\n",
       "    <tr>\n",
       "      <th>32</th>\n",
       "      <td>54</td>\n",
       "      <td>1</td>\n",
       "    </tr>\n",
       "    <tr>\n",
       "      <th>38</th>\n",
       "      <td>34</td>\n",
       "      <td>1</td>\n",
       "    </tr>\n",
       "    <tr>\n",
       "      <th>41</th>\n",
       "      <td>58</td>\n",
       "      <td>1</td>\n",
       "    </tr>\n",
       "    <tr>\n",
       "      <th>42</th>\n",
       "      <td>77</td>\n",
       "      <td>1</td>\n",
       "    </tr>\n",
       "    <tr>\n",
       "      <th>45</th>\n",
       "      <td>48</td>\n",
       "      <td>1</td>\n",
       "    </tr>\n",
       "    <tr>\n",
       "      <th>47</th>\n",
       "      <td>49</td>\n",
       "      <td>1</td>\n",
       "    </tr>\n",
       "    <tr>\n",
       "      <th>49</th>\n",
       "      <td>65</td>\n",
       "      <td>1</td>\n",
       "    </tr>\n",
       "    <tr>\n",
       "      <th>54</th>\n",
       "      <td>49</td>\n",
       "      <td>1</td>\n",
       "    </tr>\n",
       "    <tr>\n",
       "      <th>56</th>\n",
       "      <td>61</td>\n",
       "      <td>1</td>\n",
       "    </tr>\n",
       "    <tr>\n",
       "      <th>57</th>\n",
       "      <td>43</td>\n",
       "      <td>1</td>\n",
       "    </tr>\n",
       "    <tr>\n",
       "      <th>60</th>\n",
       "      <td>66</td>\n",
       "      <td>1</td>\n",
       "    </tr>\n",
       "    <tr>\n",
       "      <th>63</th>\n",
       "      <td>56</td>\n",
       "      <td>1</td>\n",
       "    </tr>\n",
       "    <tr>\n",
       "      <th>73</th>\n",
       "      <td>71</td>\n",
       "      <td>1</td>\n",
       "    </tr>\n",
       "    <tr>\n",
       "      <th>76</th>\n",
       "      <td>69</td>\n",
       "      <td>1</td>\n",
       "    </tr>\n",
       "    <tr>\n",
       "      <th>77</th>\n",
       "      <td>58</td>\n",
       "      <td>1</td>\n",
       "    </tr>\n",
       "    <tr>\n",
       "      <th>79</th>\n",
       "      <td>32</td>\n",
       "      <td>1</td>\n",
       "    </tr>\n",
       "    <tr>\n",
       "      <th>80</th>\n",
       "      <td>33</td>\n",
       "      <td>1</td>\n",
       "    </tr>\n",
       "    <tr>\n",
       "      <th>81</th>\n",
       "      <td>32</td>\n",
       "      <td>1</td>\n",
       "    </tr>\n",
       "    <tr>\n",
       "      <th>87</th>\n",
       "      <td>42</td>\n",
       "      <td>1</td>\n",
       "    </tr>\n",
       "    <tr>\n",
       "      <th>89</th>\n",
       "      <td>51</td>\n",
       "      <td>1</td>\n",
       "    </tr>\n",
       "    <tr>\n",
       "      <th>90</th>\n",
       "      <td>71</td>\n",
       "      <td>1</td>\n",
       "    </tr>\n",
       "    <tr>\n",
       "      <th>92</th>\n",
       "      <td>55</td>\n",
       "      <td>1</td>\n",
       "    </tr>\n",
       "    <tr>\n",
       "      <th>94</th>\n",
       "      <td>55</td>\n",
       "      <td>1</td>\n",
       "    </tr>\n",
       "    <tr>\n",
       "      <th>96</th>\n",
       "      <td>56</td>\n",
       "      <td>1</td>\n",
       "    </tr>\n",
       "  </tbody>\n",
       "</table>\n",
       "</div>"
      ],
      "text/plain": [
       "    Age  PhD\n",
       "0    47    1\n",
       "1    65    1\n",
       "4    53    1\n",
       "8    44    1\n",
       "9    63    1\n",
       "12   60    1\n",
       "17   47    1\n",
       "18   66    1\n",
       "19   45    1\n",
       "25   66    1\n",
       "26   36    1\n",
       "28   51    1\n",
       "29   65    1\n",
       "30   45    1\n",
       "31   52    1\n",
       "32   54    1\n",
       "38   34    1\n",
       "41   58    1\n",
       "42   77    1\n",
       "45   48    1\n",
       "47   49    1\n",
       "49   65    1\n",
       "54   49    1\n",
       "56   61    1\n",
       "57   43    1\n",
       "60   66    1\n",
       "63   56    1\n",
       "73   71    1\n",
       "76   69    1\n",
       "77   58    1\n",
       "79   32    1\n",
       "80   33    1\n",
       "81   32    1\n",
       "87   42    1\n",
       "89   51    1\n",
       "90   71    1\n",
       "92   55    1\n",
       "94   55    1\n",
       "96   56    1"
      ]
     },
     "execution_count": 36,
     "metadata": {},
     "output_type": "execute_result"
    }
   ],
   "source": [
    "df_phd=df[['Age','PhD']]\n",
    "df_phd=df_phd.drop(df_phd[df_phd['PhD']==0].index)\n",
    "df_phd"
   ]
  },
  {
   "cell_type": "markdown",
   "id": "0ec37d8f",
   "metadata": {},
   "source": [
    "#### 4. Calculate the total number of people who have a Ph.D. degree from the SalaryGender CSV file."
   ]
  },
  {
   "cell_type": "code",
   "execution_count": 38,
   "id": "bc9d38bc",
   "metadata": {},
   "outputs": [
    {
     "name": "stdout",
     "output_type": "stream",
     "text": [
      "39\n",
      "or\n",
      "39\n"
     ]
    }
   ],
   "source": [
    "print(len(df_phd))\n",
    "print(\"or\")\n",
    "print(len(df.query(\"PhD==1\")))"
   ]
  },
  {
   "cell_type": "markdown",
   "id": "d5f1da2c",
   "metadata": {},
   "source": [
    "##### 5. How do you Count The Number Of Times Each Value Appears In An Array Of Integers?\n",
    "[0, 5, 4, 0, 4, 4, 3, 0, 0, 5, 2, 1, 1, 9]\n",
    "\n",
    "Answer should be array([4, 2, 1, 1, 3, 2, 0, 0, 0, 1]) which means 0 comes 4 times,\n",
    "1 comes 2 times, 2 comes 1 time, 3 comes 1 time and so on."
   ]
  },
  {
   "cell_type": "code",
   "execution_count": 50,
   "id": "ba7fb7a2",
   "metadata": {},
   "outputs": [
    {
     "data": {
      "text/plain": [
       "[4, 2, 1, 1, 3, 2, 0, 0, 0, 1, 0, 0, 0, 0]"
      ]
     },
     "execution_count": 50,
     "metadata": {},
     "output_type": "execute_result"
    }
   ],
   "source": [
    "array=[0, 5, 4, 0, 4, 4, 3, 0, 0, 5, 2, 1, 1, 9]\n",
    "out_array=[]\n",
    "# unique_elem=set(array)\n",
    "# print(unique_elem)\n",
    "for index in range(len(array)):    \n",
    "    out_array.append(array.count(index))\n",
    "    \n",
    "out_array"
   ]
  },
  {
   "cell_type": "markdown",
   "id": "2845eaa2",
   "metadata": {},
   "source": [
    "#### 6. Create a numpy array [[0, 1, 2], [ 3, 4, 5], [ 6, 7, 8],[ 9, 10, 11]]) and filter the elements greater than 5."
   ]
  },
  {
   "cell_type": "code",
   "execution_count": 52,
   "id": "59ef2ef3",
   "metadata": {},
   "outputs": [
    {
     "data": {
      "text/plain": [
       "array([ 6,  7,  8,  9, 10, 11])"
      ]
     },
     "execution_count": 52,
     "metadata": {},
     "output_type": "execute_result"
    }
   ],
   "source": [
    "array1=np.array( [[0, 1, 2], [ 3, 4, 5], [ 6, 7, 8],[ 9, 10, 11]])\n",
    "array1[array1>5]"
   ]
  },
  {
   "cell_type": "markdown",
   "id": "a5020dc8",
   "metadata": {},
   "source": [
    "#### 7. Create a numpy array having NaN (Not a Number) and print it. array([ nan, 1., 2., nan, 3., 4., 5.])Print the same array omitting all elements which are nan"
   ]
  },
  {
   "cell_type": "code",
   "execution_count": 57,
   "id": "7999ec20",
   "metadata": {},
   "outputs": [
    {
     "name": "stdout",
     "output_type": "stream",
     "text": [
      "[nan  1.  2. nan  3.  4.  5.]\n"
     ]
    },
    {
     "data": {
      "text/plain": [
       "array([1., 2., 3., 4., 5.])"
      ]
     },
     "execution_count": 57,
     "metadata": {},
     "output_type": "execute_result"
    }
   ],
   "source": [
    "array2=np.array([ np.nan, 1., 2., np.nan, 3., 4., 5.])\n",
    "print(array2)\n",
    "# ommit nan\n",
    "array2[~np.isnan(array2)]"
   ]
  },
  {
   "cell_type": "markdown",
   "id": "ff22dfb1",
   "metadata": {},
   "source": [
    "#### 8. Create a 10x10 array with random values and find the minimum and maximum values."
   ]
  },
  {
   "cell_type": "code",
   "execution_count": 66,
   "id": "4e9908ec",
   "metadata": {},
   "outputs": [
    {
     "name": "stdout",
     "output_type": "stream",
     "text": [
      "Min Value: 0.0135\n",
      "Max Value: 0.9997\n"
     ]
    }
   ],
   "source": [
    "array3=np.random.random((10,10))\n",
    "print(f\"Min Value: {np.round(array3.min(),4)}\")\n",
    "print(f\"Max Value: {np.round(array3.max(),4)}\")"
   ]
  },
  {
   "cell_type": "markdown",
   "id": "94072ef1",
   "metadata": {},
   "source": [
    "#### 9. Create a random vector of size 30 and find the mean value."
   ]
  },
  {
   "cell_type": "code",
   "execution_count": 67,
   "id": "c6b04715",
   "metadata": {},
   "outputs": [
    {
     "name": "stdout",
     "output_type": "stream",
     "text": [
      "0.6096303710427812\n"
     ]
    }
   ],
   "source": [
    "array4=np.random.random(30)\n",
    "print(array4.mean())"
   ]
  },
  {
   "cell_type": "markdown",
   "id": "5241c2a1",
   "metadata": {},
   "source": [
    "#### 10. Create a numpy array having elements 0 to 10 And negate all the elements between 3 and 9"
   ]
  },
  {
   "cell_type": "code",
   "execution_count": 74,
   "id": "e589b589",
   "metadata": {},
   "outputs": [
    {
     "data": {
      "text/plain": [
       "(array([ 0,  1,  2, 10], dtype=int64),)"
      ]
     },
     "execution_count": 74,
     "metadata": {},
     "output_type": "execute_result"
    }
   ],
   "source": [
    "array5=np.arange(0,11)\n",
    "np.where((array5<3) | (array5>9))\n"
   ]
  },
  {
   "cell_type": "markdown",
   "id": "389eba12",
   "metadata": {},
   "source": [
    "#### 11. Create a random array of 3 rows and 3 columns and sort it according to 1st column,2nd column, or 3rd column."
   ]
  },
  {
   "cell_type": "code",
   "execution_count": 78,
   "id": "7603c7be",
   "metadata": {},
   "outputs": [
    {
     "data": {
      "text/plain": [
       "array([[0.00599784, 0.39487695, 0.0764056 ],\n",
       "       [0.39372113, 0.47321952, 0.79093199],\n",
       "       [0.59687599, 0.78625253, 0.79350746]])"
      ]
     },
     "execution_count": 78,
     "metadata": {},
     "output_type": "execute_result"
    }
   ],
   "source": [
    "array6=np.random.random(9).reshape(3,3)\n",
    "array6.sort(axis=0)\n",
    "array6"
   ]
  },
  {
   "cell_type": "markdown",
   "id": "8cebd171",
   "metadata": {},
   "source": [
    "#### 12. Create a four dimensions array to get the sum over the last two axes at once."
   ]
  },
  {
   "cell_type": "code",
   "execution_count": 80,
   "id": "c66f5dde",
   "metadata": {},
   "outputs": [
    {
     "data": {
      "text/plain": [
       "array([[[0.73679691, 1.1346553 ],\n",
       "        [0.73726394, 1.36155007]],\n",
       "\n",
       "       [[0.92891774, 1.02652605],\n",
       "        [0.83416647, 0.9037243 ]]])"
      ]
     },
     "execution_count": 80,
     "metadata": {},
     "output_type": "execute_result"
    }
   ],
   "source": [
    "array7=np.random.random(16).reshape(2,2,2,2)\n",
    "np.sum(array7, axis=0)"
   ]
  },
  {
   "cell_type": "markdown",
   "id": "abb1fc29",
   "metadata": {},
   "source": [
    "#### 13. Create a random array and swap two rows of an array."
   ]
  },
  {
   "cell_type": "code",
   "execution_count": 87,
   "id": "64dc8cca",
   "metadata": {},
   "outputs": [
    {
     "data": {
      "text/plain": [
       "array([[0.24372495, 0.12325344, 0.38980738, 0.00351722],\n",
       "       [0.20246843, 0.73296   , 0.65981104, 0.10145679],\n",
       "       [0.53113004, 0.09377949, 0.0575501 , 0.15158765],\n",
       "       [0.1442442 , 0.28907977, 0.09392631, 0.59524921]])"
      ]
     },
     "execution_count": 87,
     "metadata": {},
     "output_type": "execute_result"
    }
   ],
   "source": [
    "array8=np.random.random((4,4))\n",
    "array8[[0, 1]]=array8[[1, 0]]\n",
    "array8"
   ]
  },
  {
   "cell_type": "markdown",
   "id": "a24e818f",
   "metadata": {},
   "source": [
    "#### 14. Create a random matrix and Compute a matrix rank."
   ]
  },
  {
   "cell_type": "code",
   "execution_count": 95,
   "id": "37e2e15c",
   "metadata": {},
   "outputs": [
    {
     "data": {
      "text/plain": [
       "array([[2, 2],\n",
       "       [2, 2]], dtype=int64)"
      ]
     },
     "execution_count": 95,
     "metadata": {},
     "output_type": "execute_result"
    }
   ],
   "source": [
    "from numpy.linalg import matrix_rank\n",
    "array9=np.random.random(16).reshape(2,2,2,2)\n",
    "\n",
    "matrix_rank(array9)\n",
    "\n"
   ]
  },
  {
   "cell_type": "markdown",
   "id": "c19badcf",
   "metadata": {},
   "source": [
    "#### 15.Analyse various school outcomes in Tennessee using pandas. Suppose you are a public school administrator. Some schools in your state of Tennessee are performing below average academically. Your superintendent, under pressure from frustrated parents and voters, approached you with the task of understanding why these schools are underperforming. To improve school performance, you need to learn more about these schools and their students, just as a business needs to understand its strengths and weaknesses and its customers. Though you are eager to build an impressive explanatory model, you know the importance of conducting preliminary research to prevent possible pitfalls or blind spots. Thus, you engage in thorough exploratory analysis, which includes: a lit review, data collection, descriptive and inferential statistics, and data visualization.\n",
    "\n"
   ]
  },
  {
   "cell_type": "markdown",
   "id": "bf1eeb94",
   "metadata": {},
   "source": [
    "Phase 1 - Data Collection\n",
    "Here is the data of every public school in middle Tennessee. The data also includes\n",
    "various demographic, school faculty, and income variables. You need to convert the\n",
    "data into useful information.\n",
    "   - Read the data in a pandas data frame\n",
    "   - Describe the data to find more details"
   ]
  },
  {
   "cell_type": "code",
   "execution_count": 97,
   "id": "ec69d4d8",
   "metadata": {},
   "outputs": [
    {
     "data": {
      "text/html": [
       "<div>\n",
       "<style scoped>\n",
       "    .dataframe tbody tr th:only-of-type {\n",
       "        vertical-align: middle;\n",
       "    }\n",
       "\n",
       "    .dataframe tbody tr th {\n",
       "        vertical-align: top;\n",
       "    }\n",
       "\n",
       "    .dataframe thead th {\n",
       "        text-align: right;\n",
       "    }\n",
       "</style>\n",
       "<table border=\"1\" class=\"dataframe\">\n",
       "  <thead>\n",
       "    <tr style=\"text-align: right;\">\n",
       "      <th></th>\n",
       "      <th>school_rating</th>\n",
       "      <th>size</th>\n",
       "      <th>reduced_lunch</th>\n",
       "      <th>state_percentile_16</th>\n",
       "      <th>state_percentile_15</th>\n",
       "      <th>stu_teach_ratio</th>\n",
       "      <th>avg_score_15</th>\n",
       "      <th>avg_score_16</th>\n",
       "      <th>full_time_teachers</th>\n",
       "      <th>percent_black</th>\n",
       "      <th>percent_white</th>\n",
       "      <th>percent_asian</th>\n",
       "      <th>percent_hispanic</th>\n",
       "    </tr>\n",
       "  </thead>\n",
       "  <tbody>\n",
       "    <tr>\n",
       "      <th>count</th>\n",
       "      <td>347.000000</td>\n",
       "      <td>347.000000</td>\n",
       "      <td>347.000000</td>\n",
       "      <td>347.000000</td>\n",
       "      <td>341.000000</td>\n",
       "      <td>347.000000</td>\n",
       "      <td>341.000000</td>\n",
       "      <td>347.000000</td>\n",
       "      <td>347.000000</td>\n",
       "      <td>347.000000</td>\n",
       "      <td>347.000000</td>\n",
       "      <td>347.000000</td>\n",
       "      <td>347.000000</td>\n",
       "    </tr>\n",
       "    <tr>\n",
       "      <th>mean</th>\n",
       "      <td>2.968300</td>\n",
       "      <td>699.472622</td>\n",
       "      <td>50.279539</td>\n",
       "      <td>58.801729</td>\n",
       "      <td>58.249267</td>\n",
       "      <td>15.461671</td>\n",
       "      <td>57.004692</td>\n",
       "      <td>57.049856</td>\n",
       "      <td>44.939481</td>\n",
       "      <td>21.197983</td>\n",
       "      <td>61.673487</td>\n",
       "      <td>2.642651</td>\n",
       "      <td>11.164553</td>\n",
       "    </tr>\n",
       "    <tr>\n",
       "      <th>std</th>\n",
       "      <td>1.690377</td>\n",
       "      <td>400.598636</td>\n",
       "      <td>25.480236</td>\n",
       "      <td>32.540747</td>\n",
       "      <td>32.702630</td>\n",
       "      <td>5.725170</td>\n",
       "      <td>26.696450</td>\n",
       "      <td>27.968974</td>\n",
       "      <td>22.053386</td>\n",
       "      <td>23.562538</td>\n",
       "      <td>27.274859</td>\n",
       "      <td>3.109629</td>\n",
       "      <td>12.030608</td>\n",
       "    </tr>\n",
       "    <tr>\n",
       "      <th>min</th>\n",
       "      <td>0.000000</td>\n",
       "      <td>53.000000</td>\n",
       "      <td>2.000000</td>\n",
       "      <td>0.200000</td>\n",
       "      <td>0.600000</td>\n",
       "      <td>4.700000</td>\n",
       "      <td>1.500000</td>\n",
       "      <td>0.100000</td>\n",
       "      <td>2.000000</td>\n",
       "      <td>0.000000</td>\n",
       "      <td>1.100000</td>\n",
       "      <td>0.000000</td>\n",
       "      <td>0.000000</td>\n",
       "    </tr>\n",
       "    <tr>\n",
       "      <th>25%</th>\n",
       "      <td>2.000000</td>\n",
       "      <td>420.500000</td>\n",
       "      <td>30.000000</td>\n",
       "      <td>30.950000</td>\n",
       "      <td>27.100000</td>\n",
       "      <td>13.700000</td>\n",
       "      <td>37.600000</td>\n",
       "      <td>37.000000</td>\n",
       "      <td>30.000000</td>\n",
       "      <td>3.600000</td>\n",
       "      <td>40.600000</td>\n",
       "      <td>0.750000</td>\n",
       "      <td>3.800000</td>\n",
       "    </tr>\n",
       "    <tr>\n",
       "      <th>50%</th>\n",
       "      <td>3.000000</td>\n",
       "      <td>595.000000</td>\n",
       "      <td>51.000000</td>\n",
       "      <td>66.400000</td>\n",
       "      <td>65.800000</td>\n",
       "      <td>15.000000</td>\n",
       "      <td>61.800000</td>\n",
       "      <td>60.700000</td>\n",
       "      <td>40.000000</td>\n",
       "      <td>13.500000</td>\n",
       "      <td>68.700000</td>\n",
       "      <td>1.600000</td>\n",
       "      <td>6.400000</td>\n",
       "    </tr>\n",
       "    <tr>\n",
       "      <th>75%</th>\n",
       "      <td>4.000000</td>\n",
       "      <td>851.000000</td>\n",
       "      <td>71.500000</td>\n",
       "      <td>88.000000</td>\n",
       "      <td>88.600000</td>\n",
       "      <td>16.700000</td>\n",
       "      <td>79.600000</td>\n",
       "      <td>80.250000</td>\n",
       "      <td>54.000000</td>\n",
       "      <td>28.350000</td>\n",
       "      <td>85.950000</td>\n",
       "      <td>3.100000</td>\n",
       "      <td>13.800000</td>\n",
       "    </tr>\n",
       "    <tr>\n",
       "      <th>max</th>\n",
       "      <td>5.000000</td>\n",
       "      <td>2314.000000</td>\n",
       "      <td>98.000000</td>\n",
       "      <td>99.800000</td>\n",
       "      <td>99.800000</td>\n",
       "      <td>111.000000</td>\n",
       "      <td>99.000000</td>\n",
       "      <td>98.900000</td>\n",
       "      <td>140.000000</td>\n",
       "      <td>97.400000</td>\n",
       "      <td>99.700000</td>\n",
       "      <td>21.100000</td>\n",
       "      <td>65.200000</td>\n",
       "    </tr>\n",
       "  </tbody>\n",
       "</table>\n",
       "</div>"
      ],
      "text/plain": [
       "       school_rating         size  reduced_lunch  state_percentile_16  \\\n",
       "count     347.000000   347.000000     347.000000           347.000000   \n",
       "mean        2.968300   699.472622      50.279539            58.801729   \n",
       "std         1.690377   400.598636      25.480236            32.540747   \n",
       "min         0.000000    53.000000       2.000000             0.200000   \n",
       "25%         2.000000   420.500000      30.000000            30.950000   \n",
       "50%         3.000000   595.000000      51.000000            66.400000   \n",
       "75%         4.000000   851.000000      71.500000            88.000000   \n",
       "max         5.000000  2314.000000      98.000000            99.800000   \n",
       "\n",
       "       state_percentile_15  stu_teach_ratio  avg_score_15  avg_score_16  \\\n",
       "count           341.000000       347.000000    341.000000    347.000000   \n",
       "mean             58.249267        15.461671     57.004692     57.049856   \n",
       "std              32.702630         5.725170     26.696450     27.968974   \n",
       "min               0.600000         4.700000      1.500000      0.100000   \n",
       "25%              27.100000        13.700000     37.600000     37.000000   \n",
       "50%              65.800000        15.000000     61.800000     60.700000   \n",
       "75%              88.600000        16.700000     79.600000     80.250000   \n",
       "max              99.800000       111.000000     99.000000     98.900000   \n",
       "\n",
       "       full_time_teachers  percent_black  percent_white  percent_asian  \\\n",
       "count          347.000000     347.000000     347.000000     347.000000   \n",
       "mean            44.939481      21.197983      61.673487       2.642651   \n",
       "std             22.053386      23.562538      27.274859       3.109629   \n",
       "min              2.000000       0.000000       1.100000       0.000000   \n",
       "25%             30.000000       3.600000      40.600000       0.750000   \n",
       "50%             40.000000      13.500000      68.700000       1.600000   \n",
       "75%             54.000000      28.350000      85.950000       3.100000   \n",
       "max            140.000000      97.400000      99.700000      21.100000   \n",
       "\n",
       "       percent_hispanic  \n",
       "count        347.000000  \n",
       "mean          11.164553  \n",
       "std           12.030608  \n",
       "min            0.000000  \n",
       "25%            3.800000  \n",
       "50%            6.400000  \n",
       "75%           13.800000  \n",
       "max           65.200000  "
      ]
     },
     "execution_count": 97,
     "metadata": {},
     "output_type": "execute_result"
    }
   ],
   "source": [
    "df_tennessee=pd.read_csv(\"data/middle_tn_schools.csv\")\n",
    "df_tennessee.describe()"
   ]
  },
  {
   "cell_type": "markdown",
   "id": "7155f252",
   "metadata": {},
   "source": [
    "Phase 2 - Group data by school ratings\n",
    "Chooses indicators that describe the student body (for example, reduced_lunch) or\n",
    "school administration (stu_teach_ratio) hoping they will\n",
    "explain school_rating. reduced_lunch is a variable measuring the average percentage\n",
    "of students per school enrolled in a federal program that provides lunches for students\n",
    "from lower-income households. In short, reduced_lunch is a good proxy for household\n",
    "income Isolates ‘reduced_lunch’ and groups the data by ‘school_rating’ using pandas groupby\n",
    "method and then use describe on the re-shaped data\n"
   ]
  },
  {
   "cell_type": "code",
   "execution_count": 103,
   "id": "ea2289d5",
   "metadata": {},
   "outputs": [
    {
     "data": {
      "text/html": [
       "<div>\n",
       "<style scoped>\n",
       "    .dataframe tbody tr th:only-of-type {\n",
       "        vertical-align: middle;\n",
       "    }\n",
       "\n",
       "    .dataframe tbody tr th {\n",
       "        vertical-align: top;\n",
       "    }\n",
       "\n",
       "    .dataframe thead tr th {\n",
       "        text-align: left;\n",
       "    }\n",
       "\n",
       "    .dataframe thead tr:last-of-type th {\n",
       "        text-align: right;\n",
       "    }\n",
       "</style>\n",
       "<table border=\"1\" class=\"dataframe\">\n",
       "  <thead>\n",
       "    <tr>\n",
       "      <th></th>\n",
       "      <th colspan=\"8\" halign=\"left\">size</th>\n",
       "      <th colspan=\"2\" halign=\"left\">reduced_lunch</th>\n",
       "      <th>...</th>\n",
       "      <th colspan=\"2\" halign=\"left\">percent_asian</th>\n",
       "      <th colspan=\"8\" halign=\"left\">percent_hispanic</th>\n",
       "    </tr>\n",
       "    <tr>\n",
       "      <th></th>\n",
       "      <th>count</th>\n",
       "      <th>mean</th>\n",
       "      <th>std</th>\n",
       "      <th>min</th>\n",
       "      <th>25%</th>\n",
       "      <th>50%</th>\n",
       "      <th>75%</th>\n",
       "      <th>max</th>\n",
       "      <th>count</th>\n",
       "      <th>mean</th>\n",
       "      <th>...</th>\n",
       "      <th>75%</th>\n",
       "      <th>max</th>\n",
       "      <th>count</th>\n",
       "      <th>mean</th>\n",
       "      <th>std</th>\n",
       "      <th>min</th>\n",
       "      <th>25%</th>\n",
       "      <th>50%</th>\n",
       "      <th>75%</th>\n",
       "      <th>max</th>\n",
       "    </tr>\n",
       "    <tr>\n",
       "      <th>school_rating</th>\n",
       "      <th></th>\n",
       "      <th></th>\n",
       "      <th></th>\n",
       "      <th></th>\n",
       "      <th></th>\n",
       "      <th></th>\n",
       "      <th></th>\n",
       "      <th></th>\n",
       "      <th></th>\n",
       "      <th></th>\n",
       "      <th></th>\n",
       "      <th></th>\n",
       "      <th></th>\n",
       "      <th></th>\n",
       "      <th></th>\n",
       "      <th></th>\n",
       "      <th></th>\n",
       "      <th></th>\n",
       "      <th></th>\n",
       "      <th></th>\n",
       "      <th></th>\n",
       "    </tr>\n",
       "  </thead>\n",
       "  <tbody>\n",
       "    <tr>\n",
       "      <th>0.0</th>\n",
       "      <td>43.0</td>\n",
       "      <td>501.325581</td>\n",
       "      <td>217.273880</td>\n",
       "      <td>71.0</td>\n",
       "      <td>367.00</td>\n",
       "      <td>426.0</td>\n",
       "      <td>563.00</td>\n",
       "      <td>1002.0</td>\n",
       "      <td>43.0</td>\n",
       "      <td>83.581395</td>\n",
       "      <td>...</td>\n",
       "      <td>1.900</td>\n",
       "      <td>17.0</td>\n",
       "      <td>43.0</td>\n",
       "      <td>17.348837</td>\n",
       "      <td>19.811785</td>\n",
       "      <td>0.7</td>\n",
       "      <td>2.700</td>\n",
       "      <td>7.70</td>\n",
       "      <td>21.750</td>\n",
       "      <td>64.8</td>\n",
       "    </tr>\n",
       "    <tr>\n",
       "      <th>1.0</th>\n",
       "      <td>40.0</td>\n",
       "      <td>691.250000</td>\n",
       "      <td>476.695395</td>\n",
       "      <td>118.0</td>\n",
       "      <td>409.50</td>\n",
       "      <td>507.5</td>\n",
       "      <td>759.75</td>\n",
       "      <td>2314.0</td>\n",
       "      <td>40.0</td>\n",
       "      <td>74.950000</td>\n",
       "      <td>...</td>\n",
       "      <td>2.900</td>\n",
       "      <td>19.5</td>\n",
       "      <td>40.0</td>\n",
       "      <td>20.655000</td>\n",
       "      <td>15.259481</td>\n",
       "      <td>0.0</td>\n",
       "      <td>9.100</td>\n",
       "      <td>17.90</td>\n",
       "      <td>30.300</td>\n",
       "      <td>61.2</td>\n",
       "    </tr>\n",
       "    <tr>\n",
       "      <th>2.0</th>\n",
       "      <td>44.0</td>\n",
       "      <td>628.500000</td>\n",
       "      <td>349.591755</td>\n",
       "      <td>53.0</td>\n",
       "      <td>368.25</td>\n",
       "      <td>558.0</td>\n",
       "      <td>752.75</td>\n",
       "      <td>1771.0</td>\n",
       "      <td>44.0</td>\n",
       "      <td>64.272727</td>\n",
       "      <td>...</td>\n",
       "      <td>1.975</td>\n",
       "      <td>11.0</td>\n",
       "      <td>44.0</td>\n",
       "      <td>12.552273</td>\n",
       "      <td>9.995499</td>\n",
       "      <td>0.9</td>\n",
       "      <td>4.625</td>\n",
       "      <td>9.95</td>\n",
       "      <td>18.525</td>\n",
       "      <td>36.0</td>\n",
       "    </tr>\n",
       "    <tr>\n",
       "      <th>3.0</th>\n",
       "      <td>56.0</td>\n",
       "      <td>762.482143</td>\n",
       "      <td>399.760564</td>\n",
       "      <td>249.0</td>\n",
       "      <td>491.00</td>\n",
       "      <td>652.5</td>\n",
       "      <td>880.50</td>\n",
       "      <td>1983.0</td>\n",
       "      <td>56.0</td>\n",
       "      <td>50.285714</td>\n",
       "      <td>...</td>\n",
       "      <td>2.625</td>\n",
       "      <td>11.8</td>\n",
       "      <td>56.0</td>\n",
       "      <td>10.232143</td>\n",
       "      <td>9.373698</td>\n",
       "      <td>0.0</td>\n",
       "      <td>4.625</td>\n",
       "      <td>9.05</td>\n",
       "      <td>12.925</td>\n",
       "      <td>65.2</td>\n",
       "    </tr>\n",
       "    <tr>\n",
       "      <th>4.0</th>\n",
       "      <td>86.0</td>\n",
       "      <td>742.732558</td>\n",
       "      <td>403.389242</td>\n",
       "      <td>141.0</td>\n",
       "      <td>452.50</td>\n",
       "      <td>641.5</td>\n",
       "      <td>934.75</td>\n",
       "      <td>2025.0</td>\n",
       "      <td>86.0</td>\n",
       "      <td>41.000000</td>\n",
       "      <td>...</td>\n",
       "      <td>2.550</td>\n",
       "      <td>8.1</td>\n",
       "      <td>86.0</td>\n",
       "      <td>7.918605</td>\n",
       "      <td>7.250177</td>\n",
       "      <td>1.1</td>\n",
       "      <td>4.025</td>\n",
       "      <td>5.35</td>\n",
       "      <td>8.875</td>\n",
       "      <td>40.4</td>\n",
       "    </tr>\n",
       "    <tr>\n",
       "      <th>5.0</th>\n",
       "      <td>78.0</td>\n",
       "      <td>760.025641</td>\n",
       "      <td>429.780553</td>\n",
       "      <td>122.0</td>\n",
       "      <td>515.50</td>\n",
       "      <td>678.5</td>\n",
       "      <td>876.50</td>\n",
       "      <td>2251.0</td>\n",
       "      <td>78.0</td>\n",
       "      <td>21.602564</td>\n",
       "      <td>...</td>\n",
       "      <td>5.925</td>\n",
       "      <td>21.1</td>\n",
       "      <td>78.0</td>\n",
       "      <td>6.353846</td>\n",
       "      <td>6.055173</td>\n",
       "      <td>1.3</td>\n",
       "      <td>3.000</td>\n",
       "      <td>4.40</td>\n",
       "      <td>6.675</td>\n",
       "      <td>31.3</td>\n",
       "    </tr>\n",
       "  </tbody>\n",
       "</table>\n",
       "<p>6 rows × 96 columns</p>\n",
       "</div>"
      ],
      "text/plain": [
       "               size                                                        \\\n",
       "              count        mean         std    min     25%    50%     75%   \n",
       "school_rating                                                               \n",
       "0.0            43.0  501.325581  217.273880   71.0  367.00  426.0  563.00   \n",
       "1.0            40.0  691.250000  476.695395  118.0  409.50  507.5  759.75   \n",
       "2.0            44.0  628.500000  349.591755   53.0  368.25  558.0  752.75   \n",
       "3.0            56.0  762.482143  399.760564  249.0  491.00  652.5  880.50   \n",
       "4.0            86.0  742.732558  403.389242  141.0  452.50  641.5  934.75   \n",
       "5.0            78.0  760.025641  429.780553  122.0  515.50  678.5  876.50   \n",
       "\n",
       "                      reduced_lunch             ... percent_asian        \\\n",
       "                  max         count       mean  ...           75%   max   \n",
       "school_rating                                   ...                       \n",
       "0.0            1002.0          43.0  83.581395  ...         1.900  17.0   \n",
       "1.0            2314.0          40.0  74.950000  ...         2.900  19.5   \n",
       "2.0            1771.0          44.0  64.272727  ...         1.975  11.0   \n",
       "3.0            1983.0          56.0  50.285714  ...         2.625  11.8   \n",
       "4.0            2025.0          86.0  41.000000  ...         2.550   8.1   \n",
       "5.0            2251.0          78.0  21.602564  ...         5.925  21.1   \n",
       "\n",
       "              percent_hispanic                                           \\\n",
       "                         count       mean        std  min    25%    50%   \n",
       "school_rating                                                             \n",
       "0.0                       43.0  17.348837  19.811785  0.7  2.700   7.70   \n",
       "1.0                       40.0  20.655000  15.259481  0.0  9.100  17.90   \n",
       "2.0                       44.0  12.552273   9.995499  0.9  4.625   9.95   \n",
       "3.0                       56.0  10.232143   9.373698  0.0  4.625   9.05   \n",
       "4.0                       86.0   7.918605   7.250177  1.1  4.025   5.35   \n",
       "5.0                       78.0   6.353846   6.055173  1.3  3.000   4.40   \n",
       "\n",
       "                             \n",
       "                  75%   max  \n",
       "school_rating                \n",
       "0.0            21.750  64.8  \n",
       "1.0            30.300  61.2  \n",
       "2.0            18.525  36.0  \n",
       "3.0            12.925  65.2  \n",
       "4.0             8.875  40.4  \n",
       "5.0             6.675  31.3  \n",
       "\n",
       "[6 rows x 96 columns]"
      ]
     },
     "execution_count": 103,
     "metadata": {},
     "output_type": "execute_result"
    }
   ],
   "source": [
    "df_school_rating=df_tennessee.groupby(\"school_rating\").describe()\n",
    "df_school_rating"
   ]
  },
  {
   "cell_type": "markdown",
   "id": "4cc1fdb2",
   "metadata": {},
   "source": [
    "Phase 3 – Correlation analysis\n",
    "Find the correlation between ‘reduced_lunch’ and ‘school_rating’. The values in the\n",
    "correlation matrix table will be between -1 and 1. A value of -1 indicates the strongest\n",
    "possible negative correlation, meaning as one variable decreases the other increases.\n",
    "And a value of 1 indicates the opposite."
   ]
  },
  {
   "cell_type": "code",
   "execution_count": 105,
   "id": "324e7ea9",
   "metadata": {},
   "outputs": [
    {
     "name": "stderr",
     "output_type": "stream",
     "text": [
      "C:\\Users\\736944\\AppData\\Local\\Temp\\ipykernel_17504\\665672406.py:2: FutureWarning: The default value of numeric_only in DataFrame.corr is deprecated. In a future version, it will default to False. Select only valid columns or specify the value of numeric_only to silence this warning.\n",
      "  sns.heatmap(df_tennessee.corr())\n"
     ]
    },
    {
     "data": {
      "text/plain": [
       "<AxesSubplot: >"
      ]
     },
     "execution_count": 105,
     "metadata": {},
     "output_type": "execute_result"
    },
    {
     "data": {
      "image/png": "[encoded data removed]",
      "text/plain": [
       "<Figure size 640x480 with 2 Axes>"
      ]
     },
     "metadata": {},
     "output_type": "display_data"
    }
   ],
   "source": [
    "\n",
    "sns.heatmap(df_tennessee.corr())\n",
    "# there is a strongrddt possible negative correlatin between school_ating and reduced_lunch"
   ]
  },
  {
   "cell_type": "markdown",
   "id": "e3720a15",
   "metadata": {},
   "source": [
    "Phase 4 – Scatter Plot\n",
    "Find the relationship between school_rating and reduced_lunch, Plot a graph with the\n",
    "two variables on a scatter plot. Each dot represents a school. The placement of the dot\n",
    "represents that school's rating (Y-axis) and the percentage of its students on reduced\n",
    "lunch (x-axis). The downward trend line shows the negative correlation\n",
    "between school_rating and reduced_lunch (as one increases, the other decreases). The\n",
    "slope of the trend line indicates how much school_rating decreases\n",
    "as reduced_lunch increases. A steeper slope would indicate that a small change\n",
    "in reduced_lunch has a big impact on school_rating while a more horizontal slope\n",
    "would indicate that the same small change in reduced_lunch has a smaller impact\n",
    "on school_rating"
   ]
  },
  {
   "cell_type": "code",
   "execution_count": 111,
   "id": "48aa1f96",
   "metadata": {},
   "outputs": [
    {
     "data": {
      "text/plain": [
       "Text(0, 0.5, 'School Rating')"
      ]
     },
     "execution_count": 111,
     "metadata": {},
     "output_type": "execute_result"
    },
    {
     "data": {
      "image/png": "[encoded data removed]",
      "text/plain": [
       "<Figure size 640x480 with 1 Axes>"
      ]
     },
     "metadata": {},
     "output_type": "display_data"
    }
   ],
   "source": [
    "plt.scatter(df_tennessee[\"reduced_lunch\"], df_tennessee[\"school_rating\"])\n",
    "plt.xlabel(\"Reduced Lunch\")\n",
    "plt.ylabel(\"School Rating\")"
   ]
  },
  {
   "cell_type": "markdown",
   "id": "8628e42f",
   "metadata": {},
   "source": [
    "#### Phase 5 – Correlation Matrix\n",
    "An efficient graph for assessing relationships is the correlation matrix, as seen below;\n",
    "its color-coded cells make it easier to interpret than the tabular correlation matrix\n",
    "above. Red cells indicate positive correlation; blue cells indicate negative correlation;\n",
    "white cells indicate no correlation. The darker the colors, the stronger the correlation\n",
    "(positive or negative) between those two variables. Draw a graph of the correlation\n",
    "matrix having all important fields of the data frame."
   ]
  },
  {
   "cell_type": "code",
   "execution_count": 116,
   "id": "3b343232",
   "metadata": {},
   "outputs": [
    {
     "name": "stderr",
     "output_type": "stream",
     "text": [
      "C:\\Users\\736944\\AppData\\Local\\Temp\\ipykernel_17504\\1666198137.py:1: FutureWarning: The default value of numeric_only in DataFrame.corr is deprecated. In a future version, it will default to False. Select only valid columns or specify the value of numeric_only to silence this warning.\n",
      "  sns.heatmap(df_tennessee.corr(), cmap=\"bwr\")\n"
     ]
    },
    {
     "data": {
      "text/plain": [
       "<AxesSubplot: >"
      ]
     },
     "execution_count": 116,
     "metadata": {},
     "output_type": "execute_result"
    },
    {
     "data": {
      "image/png": "[encoded data removed]",
      "text/plain": [
       "<Figure size 640x480 with 2 Axes>"
      ]
     },
     "metadata": {},
     "output_type": "display_data"
    }
   ],
   "source": [
    "sns.heatmap(df_tennessee.corr(), cmap=\"bwr\")"
   ]
  },
  {
   "cell_type": "code",
   "execution_count": null,
   "id": "7d11b98b",
   "metadata": {},
   "outputs": [],
   "source": []
  },
  {
   "cell_type": "code",
   "execution_count": null,
   "id": "ef25a91f",
   "metadata": {},
   "outputs": [],
   "source": []
  }
 ],
 "metadata": {
  "kernelspec": {
   "display_name": "Python 3 (ipykernel)",
   "language": "python",
   "name": "python3"
  },
  "language_info": {
   "codemirror_mode": {
    "name": "ipython",
    "version": 3
   },
   "file_extension": ".py",
   "mimetype": "text/x-python",
   "name": "python",
   "nbconvert_exporter": "python",
   "pygments_lexer": "ipython3",
   "version": "3.10.8"
  }
 },
 "nbformat": 4,
 "nbformat_minor": 5
}
