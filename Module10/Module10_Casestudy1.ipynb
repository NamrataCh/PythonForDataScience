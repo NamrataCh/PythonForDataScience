{
 "cells": [
  {
   "cell_type": "markdown",
   "id": "ad4b25b8",
   "metadata": {},
   "source": [
    "### Case Study – 1\n",
    "\n",
    "#### Domain –Automotive\n",
    "focus – Incentivize drivers\n",
    "\n",
    "#### Business challenge/requirement\n",
    "Lithionpower is the largest provider of electric vehicle(e-vehicle) batteries. It\n",
    "provides battery on a rental model to e-vehicle drivers. Drivers rent battery typically\n",
    "for a day and then replace it with a charged battery from the company.\n",
    "Lithionpower has a variable pricing model based on the driver's driving history. As\n",
    "the life of a battery depends on factors such as overspeeding, distance driving per\n",
    "day, etc.\n",
    "You as an ML expert have to create a cluster model where drivers can be grouped\n",
    "based on the driving data.\n",
    "\n",
    "#### Key issues\n",
    "Drivers will be incentivized based on the cluster, so grouping has to be accurate\n",
    "\n",
    "#### Considerations\n",
    "NONE\n",
    "\n",
    "#### Data volume\n",
    "- 4000 records – file driver-data.csv\n",
    "\n",
    "#### Fields in Data\n",
    "• id: Unique Id of the driver\n",
    "• mean_dist_day: Mean distance driven by driver per day\n",
    "• mean_over_speed_perc: Mean percentage of time a driver was > 5 mph over\n",
    "the speed limit\n",
    "\n",
    "#### Additional information\n",
    "- NA\n",
    "\n",
    "#### Business benefits\n",
    "Increase in profits, up to 15-20% as drivers with poor history will be charged more"
   ]
  },
  {
   "cell_type": "code",
   "execution_count": 9,
   "id": "2d400d04",
   "metadata": {},
   "outputs": [],
   "source": [
    "import pandas as pd\n",
    "from sklearn.cluster import KMeans\n",
    "import matplotlib.pyplot as plt\n",
    "import seaborn as sns"
   ]
  },
  {
   "cell_type": "code",
   "execution_count": 2,
   "id": "cbad7b31",
   "metadata": {},
   "outputs": [
    {
     "data": {
      "text/html": [
       "<div>\n",
       "<style scoped>\n",
       "    .dataframe tbody tr th:only-of-type {\n",
       "        vertical-align: middle;\n",
       "    }\n",
       "\n",
       "    .dataframe tbody tr th {\n",
       "        vertical-align: top;\n",
       "    }\n",
       "\n",
       "    .dataframe thead th {\n",
       "        text-align: right;\n",
       "    }\n",
       "</style>\n",
       "<table border=\"1\" class=\"dataframe\">\n",
       "  <thead>\n",
       "    <tr style=\"text-align: right;\">\n",
       "      <th></th>\n",
       "      <th>id</th>\n",
       "      <th>mean_dist_day</th>\n",
       "      <th>mean_over_speed_perc</th>\n",
       "    </tr>\n",
       "  </thead>\n",
       "  <tbody>\n",
       "    <tr>\n",
       "      <th>0</th>\n",
       "      <td>3423311935</td>\n",
       "      <td>71.24</td>\n",
       "      <td>28</td>\n",
       "    </tr>\n",
       "    <tr>\n",
       "      <th>1</th>\n",
       "      <td>3423313212</td>\n",
       "      <td>52.53</td>\n",
       "      <td>25</td>\n",
       "    </tr>\n",
       "    <tr>\n",
       "      <th>2</th>\n",
       "      <td>3423313724</td>\n",
       "      <td>64.54</td>\n",
       "      <td>27</td>\n",
       "    </tr>\n",
       "    <tr>\n",
       "      <th>3</th>\n",
       "      <td>3423311373</td>\n",
       "      <td>55.69</td>\n",
       "      <td>22</td>\n",
       "    </tr>\n",
       "    <tr>\n",
       "      <th>4</th>\n",
       "      <td>3423310999</td>\n",
       "      <td>54.58</td>\n",
       "      <td>25</td>\n",
       "    </tr>\n",
       "  </tbody>\n",
       "</table>\n",
       "</div>"
      ],
      "text/plain": [
       "           id  mean_dist_day  mean_over_speed_perc\n",
       "0  3423311935          71.24                    28\n",
       "1  3423313212          52.53                    25\n",
       "2  3423313724          64.54                    27\n",
       "3  3423311373          55.69                    22\n",
       "4  3423310999          54.58                    25"
      ]
     },
     "execution_count": 2,
     "metadata": {},
     "output_type": "execute_result"
    }
   ],
   "source": [
    "df= pd.read_csv(\"data/driver-data.csv\")\n",
    "df.head()"
   ]
  },
  {
   "cell_type": "code",
   "execution_count": 6,
   "id": "ea35e738",
   "metadata": {},
   "outputs": [
    {
     "data": {
      "image/png": "[encoded data removed]",
      "text/plain": [
       "<Figure size 640x480 with 1 Axes>"
      ]
     },
     "metadata": {},
     "output_type": "display_data"
    }
   ],
   "source": [
    "# identify no of clusters using elbow method\n",
    "sum_of_squared_distances=[]\n",
    "k_range=range(2,10)\n",
    "\n",
    "for cluster_num in k_range:\n",
    "    kmeans=KMeans(n_clusters=cluster_num)\n",
    "    kmeans.fit(df)\n",
    "    \n",
    "    sum_of_squared_distances.append(kmeans.inertia_)\n",
    "\n",
    "plt.plot(k_range, sum_of_squared_distances,'bx-')\n",
    "plt.xlabel(\"Value of K\")\n",
    "plt.ylabel(\"Sum of Squared Distance/ Interia\")\n",
    "plt.title(\"Elbow method to find optimal K\")\n",
    "plt.show()\n",
    "    \n",
    "    "
   ]
  },
  {
   "cell_type": "code",
   "execution_count": 8,
   "id": "64a681e5",
   "metadata": {},
   "outputs": [
    {
     "name": "stdout",
     "output_type": "stream",
     "text": [
      "[[3.42331094e+09 7.74391176e+01 1.01480730e+01]\n",
      " [3.42331294e+09 7.41348317e+01 1.08118812e+01]\n",
      " [3.42331395e+09 7.48182968e+01 1.09073705e+01]\n",
      " [3.42331193e+09 7.78173700e+01 1.10070000e+01]]\n"
     ]
    }
   ],
   "source": [
    "# from elbow method, observed that no of clusters could be 4 where it is forming elbow\n",
    "\n",
    "kmeans=KMeans(n_clusters=4)\n",
    "kmeans.fit(df)\n",
    "\n",
    "print(kmeans.cluster_centers_)"
   ]
  },
  {
   "cell_type": "code",
   "execution_count": 10,
   "id": "5a6116d3",
   "metadata": {},
   "outputs": [],
   "source": [
    "df['cluster']=kmeans.labels_"
   ]
  },
  {
   "cell_type": "code",
   "execution_count": 12,
   "id": "2a35317f",
   "metadata": {},
   "outputs": [
    {
     "data": {
      "text/plain": [
       "Text(0, 0.5, 'Total count in cluster')"
      ]
     },
     "execution_count": 12,
     "metadata": {},
     "output_type": "execute_result"
    },
    {
     "data": {
      "image/png": "[encoded data removed]",
      "text/plain": [
       "<Figure size 640x480 with 1 Axes>"
      ]
     },
     "metadata": {},
     "output_type": "display_data"
    }
   ],
   "source": [
    "cluster_counts=df['cluster'].value_counts()\n",
    "\n",
    "sns.barplot(x=cluster_counts.index, y=cluster_counts.values)\n",
    "plt.xlabel(\"Cluster \")\n",
    "plt.ylabel(\"Total count in cluster\")"
   ]
  },
  {
   "cell_type": "code",
   "execution_count": 14,
   "id": "ccb5db5d",
   "metadata": {},
   "outputs": [
    {
     "data": {
      "text/plain": [
       "1    1007\n",
       "2    1005\n",
       "3     999\n",
       "0     989\n",
       "Name: cluster, dtype: int64"
      ]
     },
     "execution_count": 14,
     "metadata": {},
     "output_type": "execute_result"
    }
   ],
   "source": [
    "cluster_counts"
   ]
  },
  {
   "cell_type": "code",
   "execution_count": null,
   "id": "e3a5155d",
   "metadata": {},
   "outputs": [],
   "source": []
  }
 ],
 "metadata": {
  "kernelspec": {
   "display_name": "Python 3 (ipykernel)",
   "language": "python",
   "name": "python3"
  },
  "language_info": {
   "codemirror_mode": {
    "name": "ipython",
    "version": 3
   },
   "file_extension": ".py",
   "mimetype": "text/x-python",
   "name": "python",
   "nbconvert_exporter": "python",
   "pygments_lexer": "ipython3",
   "version": "3.10.8"
  }
 },
 "nbformat": 4,
 "nbformat_minor": 5
}
